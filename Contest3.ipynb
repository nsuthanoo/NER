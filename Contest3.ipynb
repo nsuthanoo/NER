{
  "nbformat": 4,
  "nbformat_minor": 0,
  "metadata": {
    "colab": {
      "name": "Contest3.ipynb",
      "provenance": [],
      "collapsed_sections": [
        "Fw3WAQUwki_1",
        "5HEswJMSI-fC"
      ]
    },
    "kernelspec": {
      "name": "python3",
      "display_name": "Python 3"
    }
  },
  "cells": [
    {
      "cell_type": "markdown",
      "metadata": {
        "id": "E_zRSyJRvPOT",
        "colab_type": "text"
      },
      "source": [
        "# **Data & Model Downloading**"
      ]
    },
    {
      "cell_type": "code",
      "metadata": {
        "id": "z7HSB7KBvYGU",
        "colab_type": "code",
        "colab": {
          "base_uri": "https://localhost:8080/",
          "height": 104
        },
        "outputId": "fb1cce49-0279-4e58-ab87-485861753661"
      },
      "source": [
        "!pip install sklearn-crfsuite"
      ],
      "execution_count": null,
      "outputs": [
        {
          "output_type": "stream",
          "text": [
            "Requirement already satisfied: sklearn-crfsuite in /usr/local/lib/python3.6/dist-packages (0.3.6)\n",
            "Requirement already satisfied: tabulate in /usr/local/lib/python3.6/dist-packages (from sklearn-crfsuite) (0.8.7)\n",
            "Requirement already satisfied: tqdm>=2.0 in /usr/local/lib/python3.6/dist-packages (from sklearn-crfsuite) (4.38.0)\n",
            "Requirement already satisfied: python-crfsuite>=0.8.3 in /usr/local/lib/python3.6/dist-packages (from sklearn-crfsuite) (0.9.7)\n",
            "Requirement already satisfied: six in /usr/local/lib/python3.6/dist-packages (from sklearn-crfsuite) (1.12.0)\n"
          ],
          "name": "stdout"
        }
      ]
    },
    {
      "cell_type": "code",
      "metadata": {
        "id": "4RG5HWsPSlZw",
        "colab_type": "code",
        "colab": {
          "base_uri": "https://localhost:8080/",
          "height": 1000
        },
        "outputId": "1a8504c1-49af-4cf1-b153-713f8ff5d31f"
      },
      "source": [
        "!pip install pythainlp[attacut,ner,benchmarks]"
      ],
      "execution_count": null,
      "outputs": [
        {
          "output_type": "stream",
          "text": [
            "Collecting pythainlp[attacut,benchmarks,ner]\n",
            "\u001b[?25l  Downloading https://files.pythonhosted.org/packages/cb/14/b80930a2cc09ed6b5f8a22da9be6ece56939839ae66d921d9c7123034ba0/pythainlp-2.1.4-py3-none-any.whl (11.1MB)\n",
            "\u001b[K     |████████████████████████████████| 11.1MB 2.6MB/s \n",
            "\u001b[?25hCollecting requests>=2.22.0\n",
            "\u001b[?25l  Downloading https://files.pythonhosted.org/packages/1a/70/1935c770cb3be6e3a8b78ced23d7e0f3b187f5cbfab4749523ed65d7c9b1/requests-2.23.0-py2.py3-none-any.whl (58kB)\n",
            "\u001b[K     |████████████████████████████████| 61kB 8.7MB/s \n",
            "\u001b[?25hCollecting nltk>=3.3\n",
            "\u001b[?25l  Downloading https://files.pythonhosted.org/packages/92/75/ce35194d8e3022203cca0d2f896dbb88689f9b3fce8e9f9cff942913519d/nltk-3.5.zip (1.4MB)\n",
            "\u001b[K     |████████████████████████████████| 1.4MB 49.8MB/s \n",
            "\u001b[?25hRequirement already satisfied: tqdm>=4.1 in /usr/local/lib/python3.6/dist-packages (from pythainlp[attacut,benchmarks,ner]) (4.38.0)\n",
            "Requirement already satisfied: dill>=0.3.0 in /usr/local/lib/python3.6/dist-packages (from pythainlp[attacut,benchmarks,ner]) (0.3.1.1)\n",
            "Collecting tinydb>=3.0\n",
            "  Downloading https://files.pythonhosted.org/packages/22/11/c3adfc1b367d1955461f82a4a0a8ffffd37b193e98f2fe89338cdd4a8a6a/tinydb-3.15.2-py2.py3-none-any.whl\n",
            "Collecting attacut>=1.0.6; extra == \"attacut\"\n",
            "\u001b[?25l  Downloading https://files.pythonhosted.org/packages/f6/56/4ab7204bde7468be65d047578192975035d9bc4e786990a407a28a8f75b8/attacut-1.0.6-py3-none-any.whl (1.3MB)\n",
            "\u001b[K     |████████████████████████████████| 1.3MB 36.9MB/s \n",
            "\u001b[?25hRequirement already satisfied: numpy>=1.16; extra == \"benchmarks\" in /usr/local/lib/python3.6/dist-packages (from pythainlp[attacut,benchmarks,ner]) (1.18.2)\n",
            "Requirement already satisfied: pandas>=0.24; extra == \"benchmarks\" in /usr/local/lib/python3.6/dist-packages (from pythainlp[attacut,benchmarks,ner]) (1.0.3)\n",
            "Collecting sklearn-crfsuite>=0.3.6; extra == \"ner\"\n",
            "  Downloading https://files.pythonhosted.org/packages/25/74/5b7befa513482e6dee1f3dd68171a6c9dfc14c0eaa00f885ffeba54fe9b0/sklearn_crfsuite-0.3.6-py2.py3-none-any.whl\n",
            "Requirement already satisfied: urllib3!=1.25.0,!=1.25.1,<1.26,>=1.21.1 in /usr/local/lib/python3.6/dist-packages (from requests>=2.22.0->pythainlp[attacut,benchmarks,ner]) (1.24.3)\n",
            "Requirement already satisfied: certifi>=2017.4.17 in /usr/local/lib/python3.6/dist-packages (from requests>=2.22.0->pythainlp[attacut,benchmarks,ner]) (2020.4.5.1)\n",
            "Requirement already satisfied: chardet<4,>=3.0.2 in /usr/local/lib/python3.6/dist-packages (from requests>=2.22.0->pythainlp[attacut,benchmarks,ner]) (3.0.4)\n",
            "Requirement already satisfied: idna<3,>=2.5 in /usr/local/lib/python3.6/dist-packages (from requests>=2.22.0->pythainlp[attacut,benchmarks,ner]) (2.8)\n",
            "Requirement already satisfied: click in /usr/local/lib/python3.6/dist-packages (from nltk>=3.3->pythainlp[attacut,benchmarks,ner]) (7.1.1)\n",
            "Requirement already satisfied: joblib in /usr/local/lib/python3.6/dist-packages (from nltk>=3.3->pythainlp[attacut,benchmarks,ner]) (0.14.1)\n",
            "Requirement already satisfied: regex in /usr/local/lib/python3.6/dist-packages (from nltk>=3.3->pythainlp[attacut,benchmarks,ner]) (2019.12.20)\n",
            "Requirement already satisfied: six>=1.12.0 in /usr/local/lib/python3.6/dist-packages (from attacut>=1.0.6; extra == \"attacut\"->pythainlp[attacut,benchmarks,ner]) (1.12.0)\n",
            "Collecting fire>=0.1.3\n",
            "\u001b[?25l  Downloading https://files.pythonhosted.org/packages/34/a7/0e22e70778aca01a52b9c899d9c145c6396d7b613719cd63db97ffa13f2f/fire-0.3.1.tar.gz (81kB)\n",
            "\u001b[K     |████████████████████████████████| 81kB 11.0MB/s \n",
            "\u001b[?25hCollecting nptyping>=0.2.0\n",
            "  Downloading https://files.pythonhosted.org/packages/73/11/9e15ef1cd231182a3b568b65a612a173061d826de805481f44848fc27a32/nptyping-1.0.1-py3-none-any.whl\n",
            "Collecting pyyaml>=5.1.2\n",
            "\u001b[?25l  Downloading https://files.pythonhosted.org/packages/64/c2/b80047c7ac2478f9501676c988a5411ed5572f35d1beff9cae07d321512c/PyYAML-5.3.1.tar.gz (269kB)\n",
            "\u001b[K     |████████████████████████████████| 276kB 41.4MB/s \n",
            "\u001b[?25hRequirement already satisfied: docopt>=0.6.2 in /usr/local/lib/python3.6/dist-packages (from attacut>=1.0.6; extra == \"attacut\"->pythainlp[attacut,benchmarks,ner]) (0.6.2)\n",
            "Collecting ssg>=0.0.4\n",
            "\u001b[?25l  Downloading https://files.pythonhosted.org/packages/06/2b/9cf956a0088f44895d20ab0aa008d8f87cc1b1a210af14601aaf72dec729/ssg-0.0.6-py3-none-any.whl (473kB)\n",
            "\u001b[K     |████████████████████████████████| 481kB 36.7MB/s \n",
            "\u001b[?25hRequirement already satisfied: torch>=1.2.0 in /usr/local/lib/python3.6/dist-packages (from attacut>=1.0.6; extra == \"attacut\"->pythainlp[attacut,benchmarks,ner]) (1.4.0)\n",
            "Requirement already satisfied: pytz>=2017.2 in /usr/local/lib/python3.6/dist-packages (from pandas>=0.24; extra == \"benchmarks\"->pythainlp[attacut,benchmarks,ner]) (2018.9)\n",
            "Requirement already satisfied: python-dateutil>=2.6.1 in /usr/local/lib/python3.6/dist-packages (from pandas>=0.24; extra == \"benchmarks\"->pythainlp[attacut,benchmarks,ner]) (2.8.1)\n",
            "Requirement already satisfied: tabulate in /usr/local/lib/python3.6/dist-packages (from sklearn-crfsuite>=0.3.6; extra == \"ner\"->pythainlp[attacut,benchmarks,ner]) (0.8.7)\n",
            "Collecting python-crfsuite>=0.8.3\n",
            "\u001b[?25l  Downloading https://files.pythonhosted.org/packages/95/99/869dde6dbf3e0d07a013c8eebfb0a3d30776334e0097f8432b631a9a3a19/python_crfsuite-0.9.7-cp36-cp36m-manylinux1_x86_64.whl (743kB)\n",
            "\u001b[K     |████████████████████████████████| 747kB 48.7MB/s \n",
            "\u001b[?25hRequirement already satisfied: termcolor in /usr/local/lib/python3.6/dist-packages (from fire>=0.1.3->attacut>=1.0.6; extra == \"attacut\"->pythainlp[attacut,benchmarks,ner]) (1.1.0)\n",
            "Collecting typish>=1.5.2\n",
            "  Downloading https://files.pythonhosted.org/packages/af/b5/b5ddbd624e12b40742a0bca7cd86db42f1b4f21f6503f74542ae046c3188/typish-1.6.0-py3-none-any.whl\n",
            "Building wheels for collected packages: nltk, fire, pyyaml\n",
            "  Building wheel for nltk (setup.py) ... \u001b[?25l\u001b[?25hdone\n",
            "  Created wheel for nltk: filename=nltk-3.5-cp36-none-any.whl size=1434672 sha256=ea09ed02ec6eb225641c29b777b676478f251e70027e9aab15dc7a3c98e90fb4\n",
            "  Stored in directory: /root/.cache/pip/wheels/ae/8c/3f/b1fe0ba04555b08b57ab52ab7f86023639a526d8bc8d384306\n",
            "  Building wheel for fire (setup.py) ... \u001b[?25l\u001b[?25hdone\n",
            "  Created wheel for fire: filename=fire-0.3.1-py2.py3-none-any.whl size=111005 sha256=f1d0f77a5ba85c0c3dae980beaea13d4aef4381eda78458f9a601f74afe0aa79\n",
            "  Stored in directory: /root/.cache/pip/wheels/c1/61/df/768b03527bf006b546dce284eb4249b185669e65afc5fbb2ac\n",
            "  Building wheel for pyyaml (setup.py) ... \u001b[?25l\u001b[?25hdone\n",
            "  Created wheel for pyyaml: filename=PyYAML-5.3.1-cp36-cp36m-linux_x86_64.whl size=44621 sha256=b176092245a3a2add63ef1de804a1aa4a895bfb006fcc2a3710882b453e78200\n",
            "  Stored in directory: /root/.cache/pip/wheels/a7/c1/ea/cf5bd31012e735dc1dfea3131a2d5eae7978b251083d6247bd\n",
            "Successfully built nltk fire pyyaml\n",
            "\u001b[31mERROR: google-colab 1.0.0 has requirement requests~=2.21.0, but you'll have requests 2.23.0 which is incompatible.\u001b[0m\n",
            "\u001b[31mERROR: datascience 0.10.6 has requirement folium==0.2.1, but you'll have folium 0.8.3 which is incompatible.\u001b[0m\n",
            "Installing collected packages: requests, nltk, tinydb, fire, typish, nptyping, pyyaml, python-crfsuite, ssg, attacut, sklearn-crfsuite, pythainlp\n",
            "  Found existing installation: requests 2.21.0\n",
            "    Uninstalling requests-2.21.0:\n",
            "      Successfully uninstalled requests-2.21.0\n",
            "  Found existing installation: nltk 3.2.5\n",
            "    Uninstalling nltk-3.2.5:\n",
            "      Successfully uninstalled nltk-3.2.5\n",
            "  Found existing installation: PyYAML 3.13\n",
            "    Uninstalling PyYAML-3.13:\n",
            "      Successfully uninstalled PyYAML-3.13\n",
            "Successfully installed attacut-1.0.6 fire-0.3.1 nltk-3.5 nptyping-1.0.1 pythainlp-2.1.4 python-crfsuite-0.9.7 pyyaml-5.3.1 requests-2.23.0 sklearn-crfsuite-0.3.6 ssg-0.0.6 tinydb-3.15.2 typish-1.6.0\n"
          ],
          "name": "stdout"
        },
        {
          "output_type": "display_data",
          "data": {
            "application/vnd.colab-display-data+json": {
              "pip_warning": {
                "packages": [
                  "requests"
                ]
              }
            }
          },
          "metadata": {
            "tags": []
          }
        }
      ]
    },
    {
      "cell_type": "code",
      "metadata": {
        "id": "l_v2AAFc9uUy",
        "colab_type": "code",
        "colab": {
          "base_uri": "https://localhost:8080/",
          "height": 901
        },
        "outputId": "f86da357-588e-4116-e663-0a645b18124a"
      },
      "source": [
        "!pip install git+git://github.com/rkcosmos/deepcut.git"
      ],
      "execution_count": null,
      "outputs": [
        {
          "output_type": "stream",
          "text": [
            "Collecting git+git://github.com/rkcosmos/deepcut.git\n",
            "  Cloning git://github.com/rkcosmos/deepcut.git to /tmp/pip-req-build-6rz3dn54\n",
            "  Running command git clone -q git://github.com/rkcosmos/deepcut.git /tmp/pip-req-build-6rz3dn54\n",
            "Requirement already satisfied: tensorflow>=2.0.0 in /usr/local/lib/python3.6/dist-packages (from deepcut==0.7.0.0) (2.2.0rc3)\n",
            "Requirement already satisfied: pandas in /usr/local/lib/python3.6/dist-packages (from deepcut==0.7.0.0) (1.0.3)\n",
            "Requirement already satisfied: scipy in /usr/local/lib/python3.6/dist-packages (from deepcut==0.7.0.0) (1.4.1)\n",
            "Requirement already satisfied: numpy in /usr/local/lib/python3.6/dist-packages (from deepcut==0.7.0.0) (1.18.2)\n",
            "Requirement already satisfied: scikit-learn in /usr/local/lib/python3.6/dist-packages (from deepcut==0.7.0.0) (0.22.2.post1)\n",
            "Requirement already satisfied: keras-preprocessing>=1.1.0 in /usr/local/lib/python3.6/dist-packages (from tensorflow>=2.0.0->deepcut==0.7.0.0) (1.1.0)\n",
            "Requirement already satisfied: tensorflow-estimator<2.3.0,>=2.2.0rc0 in /usr/local/lib/python3.6/dist-packages (from tensorflow>=2.0.0->deepcut==0.7.0.0) (2.2.0)\n",
            "Requirement already satisfied: tensorboard<2.3.0,>=2.2.0 in /usr/local/lib/python3.6/dist-packages (from tensorflow>=2.0.0->deepcut==0.7.0.0) (2.2.1)\n",
            "Requirement already satisfied: wheel>=0.26; python_version >= \"3\" in /usr/local/lib/python3.6/dist-packages (from tensorflow>=2.0.0->deepcut==0.7.0.0) (0.34.2)\n",
            "Requirement already satisfied: h5py<2.11.0,>=2.10.0 in /usr/local/lib/python3.6/dist-packages (from tensorflow>=2.0.0->deepcut==0.7.0.0) (2.10.0)\n",
            "Requirement already satisfied: termcolor>=1.1.0 in /usr/local/lib/python3.6/dist-packages (from tensorflow>=2.0.0->deepcut==0.7.0.0) (1.1.0)\n",
            "Requirement already satisfied: wrapt>=1.11.1 in /usr/local/lib/python3.6/dist-packages (from tensorflow>=2.0.0->deepcut==0.7.0.0) (1.12.1)\n",
            "Requirement already satisfied: opt-einsum>=2.3.2 in /usr/local/lib/python3.6/dist-packages (from tensorflow>=2.0.0->deepcut==0.7.0.0) (3.2.1)\n",
            "Requirement already satisfied: grpcio>=1.8.6 in /usr/local/lib/python3.6/dist-packages (from tensorflow>=2.0.0->deepcut==0.7.0.0) (1.28.1)\n",
            "Requirement already satisfied: protobuf>=3.8.0 in /usr/local/lib/python3.6/dist-packages (from tensorflow>=2.0.0->deepcut==0.7.0.0) (3.10.0)\n",
            "Requirement already satisfied: six>=1.12.0 in /usr/local/lib/python3.6/dist-packages (from tensorflow>=2.0.0->deepcut==0.7.0.0) (1.12.0)\n",
            "Requirement already satisfied: google-pasta>=0.1.8 in /usr/local/lib/python3.6/dist-packages (from tensorflow>=2.0.0->deepcut==0.7.0.0) (0.2.0)\n",
            "Requirement already satisfied: astunparse==1.6.3 in /usr/local/lib/python3.6/dist-packages (from tensorflow>=2.0.0->deepcut==0.7.0.0) (1.6.3)\n",
            "Requirement already satisfied: absl-py>=0.7.0 in /usr/local/lib/python3.6/dist-packages (from tensorflow>=2.0.0->deepcut==0.7.0.0) (0.9.0)\n",
            "Requirement already satisfied: gast==0.3.3 in /usr/local/lib/python3.6/dist-packages (from tensorflow>=2.0.0->deepcut==0.7.0.0) (0.3.3)\n",
            "Requirement already satisfied: python-dateutil>=2.6.1 in /usr/local/lib/python3.6/dist-packages (from pandas->deepcut==0.7.0.0) (2.8.1)\n",
            "Requirement already satisfied: pytz>=2017.2 in /usr/local/lib/python3.6/dist-packages (from pandas->deepcut==0.7.0.0) (2018.9)\n",
            "Requirement already satisfied: joblib>=0.11 in /usr/local/lib/python3.6/dist-packages (from scikit-learn->deepcut==0.7.0.0) (0.14.1)\n",
            "Requirement already satisfied: werkzeug>=0.11.15 in /usr/local/lib/python3.6/dist-packages (from tensorboard<2.3.0,>=2.2.0->tensorflow>=2.0.0->deepcut==0.7.0.0) (1.0.1)\n",
            "Requirement already satisfied: google-auth-oauthlib<0.5,>=0.4.1 in /usr/local/lib/python3.6/dist-packages (from tensorboard<2.3.0,>=2.2.0->tensorflow>=2.0.0->deepcut==0.7.0.0) (0.4.1)\n",
            "Requirement already satisfied: markdown>=2.6.8 in /usr/local/lib/python3.6/dist-packages (from tensorboard<2.3.0,>=2.2.0->tensorflow>=2.0.0->deepcut==0.7.0.0) (3.2.1)\n",
            "Requirement already satisfied: requests<3,>=2.21.0 in /usr/local/lib/python3.6/dist-packages (from tensorboard<2.3.0,>=2.2.0->tensorflow>=2.0.0->deepcut==0.7.0.0) (2.23.0)\n",
            "Requirement already satisfied: tensorboard-plugin-wit>=1.6.0 in /usr/local/lib/python3.6/dist-packages (from tensorboard<2.3.0,>=2.2.0->tensorflow>=2.0.0->deepcut==0.7.0.0) (1.6.0.post3)\n",
            "Requirement already satisfied: setuptools>=41.0.0 in /usr/local/lib/python3.6/dist-packages (from tensorboard<2.3.0,>=2.2.0->tensorflow>=2.0.0->deepcut==0.7.0.0) (46.1.3)\n",
            "Requirement already satisfied: google-auth<2,>=1.6.3 in /usr/local/lib/python3.6/dist-packages (from tensorboard<2.3.0,>=2.2.0->tensorflow>=2.0.0->deepcut==0.7.0.0) (1.7.2)\n",
            "Requirement already satisfied: requests-oauthlib>=0.7.0 in /usr/local/lib/python3.6/dist-packages (from google-auth-oauthlib<0.5,>=0.4.1->tensorboard<2.3.0,>=2.2.0->tensorflow>=2.0.0->deepcut==0.7.0.0) (1.3.0)\n",
            "Requirement already satisfied: urllib3!=1.25.0,!=1.25.1,<1.26,>=1.21.1 in /usr/local/lib/python3.6/dist-packages (from requests<3,>=2.21.0->tensorboard<2.3.0,>=2.2.0->tensorflow>=2.0.0->deepcut==0.7.0.0) (1.24.3)\n",
            "Requirement already satisfied: idna<3,>=2.5 in /usr/local/lib/python3.6/dist-packages (from requests<3,>=2.21.0->tensorboard<2.3.0,>=2.2.0->tensorflow>=2.0.0->deepcut==0.7.0.0) (2.8)\n",
            "Requirement already satisfied: chardet<4,>=3.0.2 in /usr/local/lib/python3.6/dist-packages (from requests<3,>=2.21.0->tensorboard<2.3.0,>=2.2.0->tensorflow>=2.0.0->deepcut==0.7.0.0) (3.0.4)\n",
            "Requirement already satisfied: certifi>=2017.4.17 in /usr/local/lib/python3.6/dist-packages (from requests<3,>=2.21.0->tensorboard<2.3.0,>=2.2.0->tensorflow>=2.0.0->deepcut==0.7.0.0) (2020.4.5.1)\n",
            "Requirement already satisfied: pyasn1-modules>=0.2.1 in /usr/local/lib/python3.6/dist-packages (from google-auth<2,>=1.6.3->tensorboard<2.3.0,>=2.2.0->tensorflow>=2.0.0->deepcut==0.7.0.0) (0.2.8)\n",
            "Requirement already satisfied: cachetools<3.2,>=2.0.0 in /usr/local/lib/python3.6/dist-packages (from google-auth<2,>=1.6.3->tensorboard<2.3.0,>=2.2.0->tensorflow>=2.0.0->deepcut==0.7.0.0) (3.1.1)\n",
            "Requirement already satisfied: rsa<4.1,>=3.1.4 in /usr/local/lib/python3.6/dist-packages (from google-auth<2,>=1.6.3->tensorboard<2.3.0,>=2.2.0->tensorflow>=2.0.0->deepcut==0.7.0.0) (4.0)\n",
            "Requirement already satisfied: oauthlib>=3.0.0 in /usr/local/lib/python3.6/dist-packages (from requests-oauthlib>=0.7.0->google-auth-oauthlib<0.5,>=0.4.1->tensorboard<2.3.0,>=2.2.0->tensorflow>=2.0.0->deepcut==0.7.0.0) (3.1.0)\n",
            "Requirement already satisfied: pyasn1<0.5.0,>=0.4.6 in /usr/local/lib/python3.6/dist-packages (from pyasn1-modules>=0.2.1->google-auth<2,>=1.6.3->tensorboard<2.3.0,>=2.2.0->tensorflow>=2.0.0->deepcut==0.7.0.0) (0.4.8)\n",
            "Building wheels for collected packages: deepcut\n",
            "  Building wheel for deepcut (setup.py) ... \u001b[?25l\u001b[?25hdone\n",
            "  Created wheel for deepcut: filename=deepcut-0.7.0.0-cp36-none-any.whl size=2011586 sha256=4a7f9093746c0b3c5220fd651b663b25b00990fb414e011d3143908efc858745\n",
            "  Stored in directory: /tmp/pip-ephem-wheel-cache-p93v7r5f/wheels/1d/a7/f3/c9794455c7ece304440686e3e7b2ad895e1d0e7dec27d49a55\n",
            "Successfully built deepcut\n",
            "Installing collected packages: deepcut\n",
            "Successfully installed deepcut-0.7.0.0\n"
          ],
          "name": "stdout"
        }
      ]
    },
    {
      "cell_type": "code",
      "metadata": {
        "id": "socqtPZsvubu",
        "colab_type": "code",
        "colab": {
          "base_uri": "https://localhost:8080/",
          "height": 86
        },
        "outputId": "7a45b9b8-151b-4e1f-e539-7385f214f739"
      },
      "source": [
        "!gdown --id 19koix8oiQJYfp0N94BxyyngBtq6KhXV8"
      ],
      "execution_count": null,
      "outputs": [
        {
          "output_type": "stream",
          "text": [
            "Downloading...\n",
            "From: https://drive.google.com/uc?id=19koix8oiQJYfp0N94BxyyngBtq6KhXV8\n",
            "To: /content/contest3-master.zip\n",
            "\r0.00B [00:00, ?B/s]\r3.32MB [00:00, 106MB/s]\n"
          ],
          "name": "stdout"
        }
      ]
    },
    {
      "cell_type": "code",
      "metadata": {
        "id": "67YELtQjzKlQ",
        "colab_type": "code",
        "colab": {
          "base_uri": "https://localhost:8080/",
          "height": 69
        },
        "outputId": "dfbeaa05-455b-413f-b6c0-17a8117683e7"
      },
      "source": [
        "!unzip contest3-master.zip"
      ],
      "execution_count": null,
      "outputs": [
        {
          "output_type": "stream",
          "text": [
            "Archive:  contest3-master.zip\n",
            "212fe7432fbd71aeb19600d2947d5e864f10c4b0\n",
            "replace contest3-master/.gitignore? [y]es, [n]o, [A]ll, [N]one, [r]ename: "
          ],
          "name": "stdout"
        }
      ]
    },
    {
      "cell_type": "code",
      "metadata": {
        "id": "oebHgEWR1uzg",
        "colab_type": "code",
        "colab": {
          "base_uri": "https://localhost:8080/",
          "height": 52
        },
        "outputId": "93afad71-6581-456e-a892-da1dbfbf0829"
      },
      "source": [
        "!unzip contest3-master/data.zip "
      ],
      "execution_count": null,
      "outputs": [
        {
          "output_type": "stream",
          "text": [
            "Archive:  contest3-master/data.zip\n",
            "replace __MACOSX/._thai_ner_dev_set? [y]es, [n]o, [A]ll, [N]one, [r]ename: "
          ],
          "name": "stdout"
        }
      ]
    },
    {
      "cell_type": "markdown",
      "metadata": {
        "id": "wh2h0FNvxhyH",
        "colab_type": "text"
      },
      "source": [
        "# **Importing Modules**"
      ]
    },
    {
      "cell_type": "code",
      "metadata": {
        "id": "rM5YfTnGxrek",
        "colab_type": "code",
        "colab": {}
      },
      "source": [
        "import sklearn_crfsuite\n",
        "import sklearn_crfsuite.metrics\n",
        "import re\n",
        "import requests\n",
        "import json\n",
        "from pythainlp import word_tokenize, Tokenizer\n",
        "from pythainlp.tag import pos_tag\n",
        "from pythainlp.tag.named_entity import ThaiNameTagger"
      ],
      "execution_count": null,
      "outputs": []
    },
    {
      "cell_type": "markdown",
      "metadata": {
        "id": "c_Cc7WabWvj4",
        "colab_type": "text"
      },
      "source": [
        "# **Hadling Raw Files**"
      ]
    },
    {
      "cell_type": "markdown",
      "metadata": {
        "id": "61eJmNN5kWMI",
        "colab_type": "text"
      },
      "source": [
        "## **Load Raw Files**"
      ]
    },
    {
      "cell_type": "code",
      "metadata": {
        "id": "tALjEf1iXzU3",
        "colab_type": "code",
        "colab": {
          "base_uri": "https://localhost:8080/",
          "height": 215
        },
        "outputId": "39978b39-35db-49c6-b296-922d5f09c8f7"
      },
      "source": [
        "#Load Test Files\n",
        "fn=[]\n",
        "for n in range(160,190):\n",
        "  fn.append('corpus0'+str(n)+'-utf8.txt')\n",
        "test={}\n",
        "for files in fn:\n",
        "  dr='thai_ner_test_set_no_answers/'+files\n",
        "  with open(dr, mode='r', encoding='utf8') as rf:\n",
        "    test[files]=rf.read()"
      ],
      "execution_count": null,
      "outputs": [
        {
          "output_type": "error",
          "ename": "FileNotFoundError",
          "evalue": "ignored",
          "traceback": [
            "\u001b[0;31m---------------------------------------------------------------------------\u001b[0m",
            "\u001b[0;31mFileNotFoundError\u001b[0m                         Traceback (most recent call last)",
            "\u001b[0;32m<ipython-input-1-c245941823a3>\u001b[0m in \u001b[0;36m<module>\u001b[0;34m()\u001b[0m\n\u001b[1;32m      6\u001b[0m \u001b[0;32mfor\u001b[0m \u001b[0mfiles\u001b[0m \u001b[0;32min\u001b[0m \u001b[0mfn\u001b[0m\u001b[0;34m:\u001b[0m\u001b[0;34m\u001b[0m\u001b[0;34m\u001b[0m\u001b[0m\n\u001b[1;32m      7\u001b[0m   \u001b[0mdr\u001b[0m\u001b[0;34m=\u001b[0m\u001b[0;34m'thai_ner_test_set_no_answers/'\u001b[0m\u001b[0;34m+\u001b[0m\u001b[0mfiles\u001b[0m\u001b[0;34m\u001b[0m\u001b[0;34m\u001b[0m\u001b[0m\n\u001b[0;32m----> 8\u001b[0;31m   \u001b[0;32mwith\u001b[0m \u001b[0mopen\u001b[0m\u001b[0;34m(\u001b[0m\u001b[0mdr\u001b[0m\u001b[0;34m,\u001b[0m \u001b[0mmode\u001b[0m\u001b[0;34m=\u001b[0m\u001b[0;34m'r'\u001b[0m\u001b[0;34m,\u001b[0m \u001b[0mencoding\u001b[0m\u001b[0;34m=\u001b[0m\u001b[0;34m'utf8'\u001b[0m\u001b[0;34m)\u001b[0m \u001b[0;32mas\u001b[0m \u001b[0mrf\u001b[0m\u001b[0;34m:\u001b[0m\u001b[0;34m\u001b[0m\u001b[0;34m\u001b[0m\u001b[0m\n\u001b[0m\u001b[1;32m      9\u001b[0m     \u001b[0mtest\u001b[0m\u001b[0;34m[\u001b[0m\u001b[0mfiles\u001b[0m\u001b[0;34m]\u001b[0m\u001b[0;34m=\u001b[0m\u001b[0mrf\u001b[0m\u001b[0;34m.\u001b[0m\u001b[0mread\u001b[0m\u001b[0;34m(\u001b[0m\u001b[0;34m)\u001b[0m\u001b[0;34m\u001b[0m\u001b[0;34m\u001b[0m\u001b[0m\n",
            "\u001b[0;31mFileNotFoundError\u001b[0m: [Errno 2] No such file or directory: 'thai_ner_test_set_no_answers/corpus0160-utf8.txt'"
          ]
        }
      ]
    },
    {
      "cell_type": "code",
      "metadata": {
        "id": "vwfJkWxmiAO7",
        "colab_type": "code",
        "colab": {
          "base_uri": "https://localhost:8080/",
          "height": 215
        },
        "outputId": "b6f9878c-6cf0-4d19-bad4-e63ec7f9950e"
      },
      "source": [
        "#Load No-ANS dev Files\n",
        "fn=[]\n",
        "for n in range(150,160):\n",
        "  fn.append('corpus0'+str(n)+'-utf8.txt')\n",
        "na_dev={}\n",
        "for files in fn:\n",
        "  dr='thai_ner_dev_set_no_answers/'+files\n",
        "  with open(dr, mode='r', encoding='utf8') as rf:\n",
        "    na_dev[files]=rf.read()"
      ],
      "execution_count": null,
      "outputs": [
        {
          "output_type": "error",
          "ename": "FileNotFoundError",
          "evalue": "ignored",
          "traceback": [
            "\u001b[0;31m---------------------------------------------------------------------------\u001b[0m",
            "\u001b[0;31mFileNotFoundError\u001b[0m                         Traceback (most recent call last)",
            "\u001b[0;32m<ipython-input-2-ae614e1834bf>\u001b[0m in \u001b[0;36m<module>\u001b[0;34m()\u001b[0m\n\u001b[1;32m      6\u001b[0m \u001b[0;32mfor\u001b[0m \u001b[0mfiles\u001b[0m \u001b[0;32min\u001b[0m \u001b[0mfn\u001b[0m\u001b[0;34m:\u001b[0m\u001b[0;34m\u001b[0m\u001b[0;34m\u001b[0m\u001b[0m\n\u001b[1;32m      7\u001b[0m   \u001b[0mdr\u001b[0m\u001b[0;34m=\u001b[0m\u001b[0;34m'thai_ner_dev_set_no_answers/'\u001b[0m\u001b[0;34m+\u001b[0m\u001b[0mfiles\u001b[0m\u001b[0;34m\u001b[0m\u001b[0;34m\u001b[0m\u001b[0m\n\u001b[0;32m----> 8\u001b[0;31m   \u001b[0;32mwith\u001b[0m \u001b[0mopen\u001b[0m\u001b[0;34m(\u001b[0m\u001b[0mdr\u001b[0m\u001b[0;34m,\u001b[0m \u001b[0mmode\u001b[0m\u001b[0;34m=\u001b[0m\u001b[0;34m'r'\u001b[0m\u001b[0;34m,\u001b[0m \u001b[0mencoding\u001b[0m\u001b[0;34m=\u001b[0m\u001b[0;34m'utf8'\u001b[0m\u001b[0;34m)\u001b[0m \u001b[0;32mas\u001b[0m \u001b[0mrf\u001b[0m\u001b[0;34m:\u001b[0m\u001b[0;34m\u001b[0m\u001b[0;34m\u001b[0m\u001b[0m\n\u001b[0m\u001b[1;32m      9\u001b[0m     \u001b[0mna_dev\u001b[0m\u001b[0;34m[\u001b[0m\u001b[0mfiles\u001b[0m\u001b[0;34m]\u001b[0m\u001b[0;34m=\u001b[0m\u001b[0mrf\u001b[0m\u001b[0;34m.\u001b[0m\u001b[0mread\u001b[0m\u001b[0;34m(\u001b[0m\u001b[0;34m)\u001b[0m\u001b[0;34m\u001b[0m\u001b[0;34m\u001b[0m\u001b[0m\n",
            "\u001b[0;31mFileNotFoundError\u001b[0m: [Errno 2] No such file or directory: 'thai_ner_dev_set_no_answers/corpus0150-utf8.txt'"
          ]
        }
      ]
    },
    {
      "cell_type": "code",
      "metadata": {
        "id": "sLLSJJ0zkELW",
        "colab_type": "code",
        "colab": {}
      },
      "source": [
        "#Load dev Files w/ ANS\n",
        "fn=[]\n",
        "for n in range(150,160):\n",
        "  fn.append('corpus0'+str(n)+'-utf8.txt')\n",
        "dev={}\n",
        "for files in fn:\n",
        "  dr='thai_ner_dev_set/'+files\n",
        "  with open(dr, mode='r', encoding='utf8') as rf:\n",
        "    dev[files]=rf.read()"
      ],
      "execution_count": null,
      "outputs": []
    },
    {
      "cell_type": "code",
      "metadata": {
        "id": "6dtGQ6HeiVz-",
        "colab_type": "code",
        "colab": {}
      },
      "source": [
        "#Load Train Files w/ ANS\n",
        "fn=[]\n",
        "for n in range(1,100):\n",
        "  fn.append('corpus00'+str(n)+'-utf8.txt')\n",
        "for n in range(100,150):\n",
        "  fn.append('corpus0'+str(n)+'-utf8.txt')\n",
        "train={}\n",
        "for files in fn:\n",
        "  dr='thai_ner_train/'+files\n",
        "  with open(dr, mode='r', encoding='utf8') as rf:\n",
        "    train[files]=rf.read()"
      ],
      "execution_count": null,
      "outputs": []
    },
    {
      "cell_type": "markdown",
      "metadata": {
        "id": "Fw3WAQUwki_1",
        "colab_type": "text"
      },
      "source": [
        "## **Decode Files w/ ANS**"
      ]
    },
    {
      "cell_type": "code",
      "metadata": {
        "id": "4sbubfeIdWlJ",
        "colab_type": "code",
        "colab": {}
      },
      "source": [
        "def ind_e(s):\n",
        "  if re.match('.+<abb>.+?</abb>.+',s):\n",
        "    if re.match('.+</abb>(.+)</.+?Ind>',s):\n",
        "      ind=abb_e(s)+re.search('<.+?Ind>\\s*<abb>.+</abb>(.+)</.+?Ind',s).group(1)\n",
        "    else:\n",
        "      ind=abb_e(s)\n",
        "  else:\n",
        "    ind=re.search('<.+?Ind>(.+?)</.+?Ind>',s).group(1)\n",
        "  return(ind)\n",
        "\n",
        "def abb_e(s):\n",
        "  abb= ''.join(re.findall('<abb>(.+?)</abb>',s))\n",
        "  return(abb)\n",
        "\n",
        "def title_e(s):\n",
        "  tt= re.sub('<.+?>','',re.search('<title>(.+?)</title>',s).group(1))\n",
        "  return(tt)"
      ],
      "execution_count": null,
      "outputs": []
    },
    {
      "cell_type": "code",
      "metadata": {
        "id": "TGSPA9qDkpvy",
        "colab_type": "code",
        "colab": {}
      },
      "source": [
        "#Extract dev Files w/ ANS\n",
        "d_dev={}\n",
        "for k,i in dev.items():\n",
        "  org=re.findall('(<orgName Id=.+?>.+?</orgName>)',i)\n",
        "  pers=re.findall('(<persName Id=.+?>.+?</persName>)',i)\n",
        "  place=re.findall('(<placeName Id=.+?>.+?</placeName>)',i)\n",
        "  dc={}\n",
        "  all_org=[]\n",
        "  all_pers=[]\n",
        "  all_place=[]\n",
        "  for item in org:\n",
        "    if re.match('<orgName Id=.+?>\\s*<orgInd>.+</orgInd>.+</orgName>',item):\n",
        "      if re.match('<orgName Id=.+?>\\s*<orgInd>.+</orgInd>.+<orgIndB>.+</orgIndB>\\s*</orgName>',item):\n",
        "        all_org.append(ind_e(item)+re.search('.+</orgInd>(.+)<orgIndB>',item).group(1)+re.search('.+<orgIndB>(.+)</orgIndB>',item).group(1))\n",
        "      else:\n",
        "        all_org.append(ind_e(item)+re.search('.+</orgInd>(.+)</orgName>',item).group(1))\n",
        "    elif re.match('<orgName Id=.+?>\\s*<abb>.+</abb>\\s*</orgName>',item):\n",
        "      all_org.append(abb_e(item))\n",
        "    else:\n",
        "      all_org.append(re.search('<orgName Id=.+?>(.+)</orgName>',item).group(1))\n",
        "  for item in pers:\n",
        "    if re.match('<persName Id=.+?>\\s*<title>.+</title>.+</persName>',item):\n",
        "      all_pers.append(title_e(item)+re.search('.+</title>(.+)</persName>',item).group(1))\n",
        "    else:\n",
        "      all_pers.append(re.search('<persName Id=.+?>(.+)</persName>',item).group(1))\n",
        "  for item in place:\n",
        "    if re.match('<placeName Id=.+?>\\s*<placeInd>.+</placeInd>.+</placeName>',item):\n",
        "      all_place.append(ind_e(item)+re.search('.+</placeInd>(.+)</placeName>',item).group(1))\n",
        "    elif re.match('<placeName Id=.+?>\\s*<abb>.+</abb>\\s*</placeName>',item):\n",
        "      all_place.append(abb_e(item))\n",
        "    else:\n",
        "      all_place.append(re.search('<placeName Id=.+?>(.+)</placeName>',item).group(1))\n",
        "  dc['org']=list(set(all_org))\n",
        "  dc['pers']=list(set(all_pers))\n",
        "  dc['place']=list(set(all_place))\n",
        "  d_dev[k]=dc\n",
        "\n"
      ],
      "execution_count": null,
      "outputs": []
    },
    {
      "cell_type": "code",
      "metadata": {
        "id": "ZLFQ-avTkxMx",
        "colab_type": "code",
        "colab": {}
      },
      "source": [
        "#extract Train Files w/ ANS\n",
        "d_train={}\n",
        "for k,i in train.items():\n",
        "  org=re.findall('(<orgName Id=.+?>.+?</orgName>)',i)\n",
        "  pers=re.findall('(<persName Id=.+?>.+?</persName>)',i)\n",
        "  place=re.findall('(<placeName Id=.+?>.+?</placeName>)',i)\n",
        "  dc={}\n",
        "  all_org=[]\n",
        "  all_pers=[]\n",
        "  all_place=[]\n",
        "  for item in org:\n",
        "    if re.match('<orgName Id=.+?>\\s*<orgInd>.+</orgInd>.+</orgName>',item):\n",
        "      if re.match('<orgName Id=.+?>\\s*<orgInd>.+</orgInd>.+<orgIndB>.+</orgIndB>\\s*</orgName>',item):\n",
        "        all_org.append(ind_e(item)+re.search('.+</orgInd>(.+)<orgIndB>',item).group(1)+re.search('.+<orgIndB>(.+)</orgIndB>',item).group(1))\n",
        "      else:\n",
        "        all_org.append(ind_e(item)+re.search('.+</orgInd>(.+)</orgName>',item).group(1))\n",
        "    elif re.match('<orgName Id=.+?>\\s*<abb>.+</abb>\\s*</orgName>',item):\n",
        "      all_org.append(abb_e(item))\n",
        "    else:\n",
        "      all_org.append(re.search('<orgName Id=.+?>(.+)</orgName>',item).group(1))\n",
        "  for item in pers:\n",
        "    if re.match('<persName Id=.+?>\\s*<title>.+</title>.+</persName>',item):\n",
        "      all_pers.append(title_e(item)+re.search('.+</title>(.+)</persName>',item).group(1))\n",
        "    else:\n",
        "      all_pers.append(re.search('<persName Id=.+?>(.+)</persName>',item).group(1))\n",
        "  for item in place:\n",
        "    if re.match('<placeName Id=.+?>\\s*<placeInd>.+</placeInd>.+</placeName>',item):\n",
        "      all_place.append(ind_e(item)+re.search('.+</placeInd>(.+)</placeName>',item).group(1))\n",
        "    elif re.match('<placeName Id=.+?>\\s*<abb>.+</abb>\\s*</placeName>',item):\n",
        "      all_place.append(abb_e(item))\n",
        "    else:\n",
        "      all_place.append(re.search('<placeName Id=.+?>(.+)</placeName>',item).group(1))\n",
        "  dc['org']=list(set(all_org))\n",
        "  dc['pers']=list(set(all_pers))\n",
        "  dc['place']=list(set(all_place))\n",
        "  d_train[k]=dc\n"
      ],
      "execution_count": null,
      "outputs": []
    },
    {
      "cell_type": "code",
      "metadata": {
        "id": "CPt0hmmygNXn",
        "colab_type": "code",
        "colab": {}
      },
      "source": [
        "for a,b in zip(t_train['corpus0138-utf8.txt'],"
      ],
      "execution_count": null,
      "outputs": []
    },
    {
      "cell_type": "markdown",
      "metadata": {
        "id": "5HEswJMSI-fC",
        "colab_type": "text"
      },
      "source": [
        "## **Tokenize**"
      ]
    },
    {
      "cell_type": "code",
      "metadata": {
        "id": "lIyEWCZHJERe",
        "colab_type": "code",
        "colab": {}
      },
      "source": [
        "#dev\n",
        "t_dev={}\n",
        "for k,i in na_dev.items():\n",
        "  t_dev[k]=word_tokenize(re.sub('\\n','',i),engine=\"deepcut\",keep_whitespace=False)"
      ],
      "execution_count": null,
      "outputs": []
    },
    {
      "cell_type": "code",
      "metadata": {
        "id": "4J4PS3B1-cAG",
        "colab_type": "code",
        "colab": {}
      },
      "source": [
        "#train\n",
        "t_train={}\n",
        "na_train={}\n",
        "for k,i in train.items():\n",
        "  na_train[k]=re.sub('<.+?>','',i)\n",
        "for k,i in na_train.items():\n",
        "  t_train[k]=word_tokenize(re.sub('\\n','',i),engine=\"deepcut\",keep_whitespace=False)"
      ],
      "execution_count": null,
      "outputs": []
    },
    {
      "cell_type": "code",
      "metadata": {
        "id": "DcolWA0W-ldi",
        "colab_type": "code",
        "colab": {}
      },
      "source": [
        "#test\n",
        "t_test={}\n",
        "for k,i in test.items():\n",
        "  t_test[k]=word_tokenize(re.sub('\\n','',i),engine=\"deepcut\",keep_whitespace=False)"
      ],
      "execution_count": null,
      "outputs": []
    },
    {
      "cell_type": "markdown",
      "metadata": {
        "id": "f4YrSJHqA0B1",
        "colab_type": "text"
      },
      "source": [
        "## **Sentence Tagging**"
      ]
    },
    {
      "cell_type": "markdown",
      "metadata": {
        "id": "LlhsyPkxDk6e",
        "colab_type": "text"
      },
      "source": [
        "### **NER Tagging**"
      ]
    },
    {
      "cell_type": "code",
      "metadata": {
        "id": "At8l9h4UDmwd",
        "colab_type": "code",
        "colab": {}
      },
      "source": [
        "#dev\n",
        "ner_dev=[]\n",
        "for k,i in t_dev.items():\n",
        "  nd=[]\n",
        "  for t in i:\n",
        "    if t in d_dev[k]['pers']:\n",
        "      nd.append('pers')\n",
        "    elif t in d_dev[k]['place']:\n",
        "      nd.append('place')\n",
        "    elif t in d_dev[k]['org']:\n",
        "      nd.append('org')\n",
        "    else:\n",
        "      nd.append('o')\n",
        "  ner_dev.append(nd)"
      ],
      "execution_count": null,
      "outputs": []
    },
    {
      "cell_type": "code",
      "metadata": {
        "id": "bZg2TSNMFabT",
        "colab_type": "code",
        "colab": {}
      },
      "source": [
        "#train\n",
        "ner_train=[]\n",
        "for k,i in t_train.items():\n",
        "  nd=[]\n",
        "  for t in i:\n",
        "    if t in d_train[k]['pers']:\n",
        "      nd.append('pers')\n",
        "    elif t in d_train[k]['place']:\n",
        "      nd.append('place')\n",
        "    elif t in d_train[k]['org']:\n",
        "      nd.append('org')\n",
        "    else:\n",
        "      nd.append('o')\n",
        "  ner_train.append(nd)"
      ],
      "execution_count": null,
      "outputs": []
    },
    {
      "cell_type": "markdown",
      "metadata": {
        "id": "ODf1IGMgPUBn",
        "colab_type": "text"
      },
      "source": [
        "### **POS Tagging**"
      ]
    },
    {
      "cell_type": "code",
      "metadata": {
        "id": "E9lsyPmzPWfP",
        "colab_type": "code",
        "colab": {}
      },
      "source": [
        "#dev\n",
        "xdev=[]\n",
        "for k,t in t_dev.items():\n",
        "  xdev.append(pos_tag(t, corpus='orchid'))"
      ],
      "execution_count": null,
      "outputs": []
    },
    {
      "cell_type": "code",
      "metadata": {
        "id": "7lDGFE00SjGN",
        "colab_type": "code",
        "colab": {}
      },
      "source": [
        "#train\n",
        "xtrain=[]\n",
        "for k,t in t_train.items():\n",
        "  xtrain.append(pos_tag(t, corpus='orchid'))"
      ],
      "execution_count": null,
      "outputs": []
    },
    {
      "cell_type": "code",
      "metadata": {
        "id": "mnDFa5t8Sqkw",
        "colab_type": "code",
        "colab": {}
      },
      "source": [
        "#test\n",
        "xtest=[]\n",
        "for k,t in t_test.items():\n",
        "  xtest.append(pos_tag(t, corpus='orchid'))"
      ],
      "execution_count": null,
      "outputs": []
    },
    {
      "cell_type": "markdown",
      "metadata": {
        "id": "Eq8CibPI2NbF",
        "colab_type": "text"
      },
      "source": [
        "## **Dictionary Creating**"
      ]
    },
    {
      "cell_type": "code",
      "metadata": {
        "id": "_wvMEoyt2Wb4",
        "colab_type": "code",
        "colab": {}
      },
      "source": [
        "with open('contest3-master/name.json','r') as na:\n",
        "  name=json.load(na)\n",
        "  na=str(name)\n",
        "name_list=[]\n",
        "for k,i in name.items():\n",
        "  name_list.append(list(i))"
      ],
      "execution_count": null,
      "outputs": []
    },
    {
      "cell_type": "code",
      "metadata": {
        "id": "GieOni9JOVj8",
        "colab_type": "code",
        "colab": {}
      },
      "source": [
        "with open('contest3-master/place.txt','r') as pl:\n",
        "  place=str(pl.read())\n",
        "  place_list=place.split('\\n')"
      ],
      "execution_count": null,
      "outputs": []
    },
    {
      "cell_type": "code",
      "metadata": {
        "id": "iC4gM4piQ-ys",
        "colab_type": "code",
        "colab": {}
      },
      "source": [
        "with open('contest3-master/company.txt','r') as cm:\n",
        "  compa=str(cm.read())\n",
        "  com_list=compa.split('\\n')"
      ],
      "execution_count": null,
      "outputs": []
    },
    {
      "cell_type": "code",
      "metadata": {
        "id": "M9ujXhJrRm2n",
        "colab_type": "code",
        "colab": {}
      },
      "source": [
        "with open('contest3-master/organization.txt','r') as org:\n",
        "  o=str(org.read())\n",
        "  org_list=o.split('\\n')"
      ],
      "execution_count": null,
      "outputs": []
    },
    {
      "cell_type": "markdown",
      "metadata": {
        "id": "oTGi69WN_m8w",
        "colab_type": "text"
      },
      "source": [
        "# **Features Engineering**"
      ]
    },
    {
      "cell_type": "code",
      "metadata": {
        "id": "kBpg-1TYYsTh",
        "colab_type": "code",
        "colab": {}
      },
      "source": [
        "#Word\n",
        "def pos_features(i, tokens):\n",
        "  pos_f={}\n",
        "  if i >0:\n",
        "    pos_f.update({'t-1 pos': tokens[i-1][1]})\n",
        "  pos_f.update({'t0 pos': tokens[i][1]})\n",
        "  if i < len(tokens)-1:\n",
        "    pos_f.update({'t+1 pos': tokens[i+1][1]})\n",
        "  return pos_f\n",
        "    \n",
        "def pos_conjunctive_features(i, tokens):\n",
        "  if i < len(tokens)-1:\n",
        "    if i >0:\n",
        "      return {'pos_c':[ tokens[i-1][1], tokens[i][1], tokens[i+1][1]]}\n",
        "    else: \n",
        "      return {'pos_c':[tokens[i][1], tokens[i+1][1]]}\n",
        "  else:\n",
        "    return {'pos_c':[ tokens[i-1][1], tokens[i][1]]}\n",
        "\n",
        "def word_features(i, tokens):\n",
        "  if i == 0:\n",
        "    return {'word_current': tokens[i][0], 'word_next': tokens[i+1][0]}\n",
        "  elif i == len(tokens) - 1:\n",
        "    return {'word_current': tokens[i][0], 'word_previous': tokens[i-1][0]}\n",
        "  else:\n",
        "    return {'word_current': tokens[i][0], 'word_next': tokens[i+1][0], 'word_previous': tokens[i-1][0]}\n",
        "\n",
        "def inclu(i, tokens):\n",
        "  if re.match('.*(จ.|จังหวัด).*',tokens[i][0]):\n",
        "    return({'included':'Province'})\n",
        "  elif re.match('.*(ประเทศ).*',tokens[i][0]):\n",
        "    return({'included':'Country'})\n",
        "  elif re.match('.*(บริษัท|บ\\.|จำกัด|มหาชน).*',tokens[i][0]):\n",
        "    return({'included':'Company'})\n",
        "  elif re.match('.*(นาย|นาง|นางสาว|นส.).*',tokens[i][0]):\n",
        "    return({'included':'Person'})\n",
        "  else:\n",
        "     return({'included':'nothing'})\n",
        "\n",
        "\n",
        "\n",
        "def in_dict(i,tokens):\n",
        "  q=''.join(['.*',tokens[i][0],'.*'])\n",
        "  if q in na:\n",
        "    return({'in_dict':'Name'})\n",
        "  elif q in place:\n",
        "    return({'in_dict':'Place'})\n",
        "  elif q in compa:\n",
        "    return({'in_dict':'Company'})\n",
        "  elif q in o:\n",
        "    return({'in_dict':'Organization'})\n",
        "  else:\n",
        "    return({'in_dict':'Not_in_dict'})"
      ],
      "execution_count": null,
      "outputs": []
    },
    {
      "cell_type": "code",
      "metadata": {
        "id": "xWLzqswXTqIv",
        "colab_type": "code",
        "colab": {
          "base_uri": "https://localhost:8080/",
          "height": 55
        },
        "outputId": "6a756e7c-537c-4919-89b4-290dab201566"
      },
      "source": [
        "def in_dict(i,tokens):\n",
        "  q=''.join(['.*',tokens[i][0],'.*'])\n",
        "  if re.match(q,na):\n",
        "    return({'in_dict':'Name'})\n",
        "  elif re.match(q,place):\n",
        "    return({'in_dict':'Place'})\n",
        "  elif re.match(q,compa):\n",
        "    return({'in_dict':'Company'})\n",
        "  elif re.match(q,o):\n",
        "    return({'in_dict':'Organization'})\n",
        "  else:\n",
        "    return({'in_dict':'Not_in_dict'})"
      ],
      "execution_count": null,
      "outputs": [
        {
          "output_type": "execute_result",
          "data": {
            "text/plain": [
              "\"{'name': ['อภิสิทธิ์', 'อดิศักดิ์', 'อักขระ', 'อริศรา', 'อมร', 'อมรรัตน์', 'อนันต์', 'อนันตชัย', 'อาณัติ', 'อัญชลี', 'อัญชลีพร', 'อนุชา', 'อาภัสรา', 'อภิชาต', 'อภิชาติ', 'อภิรักษ์', 'อภิศักดิ์', 'อภิญญา', 'อารี', 'อารีพงศ์', 'อารง', 'อาทิตย์', 'อรุณศรี', 'อัษรา', 'อัษฎา', 'อรรถสิทธิ์', 'บัณฑิตา', 'บัญญัติ', 'บุญศรี', 'บุญรัตน์', 'บุญเยี่ยม', 'บุญยง', 'บุษราคัม', 'บุศวรรณ', 'ชัยอนันต์', 'ชัยพร', 'จักรี', 'เฉลิม', 'ฉลวย', 'ชนะ', 'ชาญชัย', 'ชนินทร์', 'ชนิภรณ์', 'จันทร์สิริ', 'เชาวน์', 'ชาติชาย', 'ชาติ', 'จตุพล', 'ชิด', 'ชมเกดุ', 'ชุ่ม', 'ชวน', 'จุลภาส', 'ชูวิทย์', 'ดนัย', 'แดง', 'ดนุพล', 'ดวงใจ', 'ดวงกมล', 'เดือนเพ็ญ', 'ดุสิต', 'เอกใหม่', 'เอกพงษ์', 'ฟุ้งฟ้า', 'กานดา', 'แก้วเก้า', 'กมล', 'กนกพร', 'กระสินธ์', 'หทัย', 'จันทนา', 'จารุวรรณ', 'จินตหรา', 'จินทนา', 'เจือ', 'กาญจนา', 'เกษม', 'ขจี', 'ขนิษฐา', 'คลัง', 'ขวัญจิต', 'กิติ', 'กล้าหาญ', 'กฤษฏิ์', 'กุมโชค', 'กุญชนิตา', 'กุลพันธ์', 'ขวัญชัย', 'ขวัญใจ', 'มาลี', 'มะลิ', 'มณี', 'มาณี', 'มานิจ', 'มโน', 'มณู', 'มนู', 'มานิตย์', 'มารวย', 'มงคล', 'มนตรี', 'มุกดา', 'นาค', 'นัยนา', 'นาก', 'เนาวรัตน์', 'นภสร', 'นารี', 'นรินทร์ศักดิ์', 'นริศา', 'ณรงค์ศักดิ์', 'นฤมล', 'ณัฏฐสิทธิ์', 'นววรรณ', 'ณี', 'หนิว', 'นีราชา', 'นิตยา', 'นงลักษณ์', 'นงนุช', 'นพดล', 'นพคุณ', 'นพรัตน์', 'ณัฎฐา', 'ณัฐิมา', 'ไพรัช', 'ไพฑูรย์', 'ปกรณ์', 'ปานใจ', 'ผาณิต', 'พนิต', 'พรรณี', 'พนม', 'ปานเทพ', 'ภานุพัฒน์', 'ปาริชาติ', 'ปริญญา', 'ภาสุระ', 'พัชรพร', 'พาที', 'ปฐม', 'ปฏิภาณ', 'พัฒนา', 'ปวีณา', 'เพ็ญสุขภรณ์', 'ปีย์รติ', 'เพิ่ม', 'เผด็จ', 'ไพบูลย์', 'ไพศักดิ์', 'ไพศาล', 'พาณิชย์', 'พยนต์', 'พิชิต', 'พิจิตร', 'พิมพ์ใจ', 'พินิจ', 'พิภพ', 'พิริยะ', 'ภิรมย์', 'พลเดช', 'ผ่องเพ็ญ', 'พรพันธุ์', 'พรพรรณ', 'ภรณ์พรรณ', 'ภรณ์พันธ์', 'ภรณ์พันธุ์', 'พรรัมภา', 'ภุชงค์', 'ภูมินทร์', 'ภูมิพัฒน์', 'พูนศักดิ์', 'พิกุล', 'พิมพ์วสี', 'พิราวรรณ์', 'ปีติ', 'ปิติ', 'ปิยบุตร', 'ปิยะคม', 'ปิยวรรณ', 'ป้อง', 'พรชัย', 'ประชา', 'ประดิษฐ์', 'ประมนต์', 'ประมุข', 'ปราณี', 'ประพันธ์', 'ประภาส', 'ประสาน', 'ประเสริฐ', 'ประสิทธิ์', 'ประสงค์', 'ปรารถนา', 'ประทีป', 'ประทุม', 'ปรัชญา', 'ประเวช', 'ประเวศ', 'ประวิทย์', 'ประวิตร', 'ปรีชา', 'ปรีดา', 'เปรม', 'ปัญญา', 'ราม', 'รังรอง', 'รินรดา', 'รอง', 'ฤดี', 'รื่น', 'รื่นฤดี', 'รุ่งสิทธิ์', 'รัตน์', 'ฤทัย', 'แสงดาว', 'สายพิณ', 'สายสมร', 'ศักดา', 'สากล', 'ศักดิ์ทิพย์', 'สกุล', 'สลิลธร', 'สมัคร', 'สามารถ', 'สมร', 'สำเริง', 'สำรวย', 'สนั่น', 'สังวาล', 'สังวาลย์', 'สนิท', 'สันติ', 'สริตา', 'ศศิธร', 'สาธิต', 'สาธิตยัง', 'สว่าง', 'สวัสดิ์', 'สาวิทย์', 'เสรี', 'เซติอาวัน', 'เซติยัง', 'สิงห์', 'ศิริ', 'ศิริโชค', 'สิริกิติ์', 'ศิริณี', 'ศิริพันธ์', 'ศิริพล', 'ศิริพงศ์', 'ศิริพร', 'สิริรักษ์', 'ศิริรัตน์', 'ศิริวรรณ', 'ศรีศักดิ์', 'สีห์ศักดิ์', 'สิทธิ', 'โสภาค', 'สมบัติ', 'สมบูรณ์', 'สมบุญ', 'สมชาย', 'สมโชค', 'สุดใจ', 'สมจิต', 'สมคิด', 'สมควร', 'สมลักษณ์', 'สมหมาย', 'สมเพียร', 'สมภพ', 'สมพงษ์', 'สมพร', 'สมรัตน์', 'สมศักดิ์', 'สมทรง', 'สมศรี', 'สมยศ', 'สนธิ', 'สุนทรี', 'สุชาดา', 'สุชาดาจะ', 'สุชาย', 'สุชาติ', 'สุจินดา', 'สุดา', 'สุกัญญา', 'สุหัตถ์', 'สุจิต', 'สุเมธ', 'สุนัย', 'สุนีย์', 'สุนี', 'สุภา', 'ศุภชัย', 'สุภาภรณ์', 'ศุภวิทย์', 'สุพรรณ', 'สุภาพ', 'ศุภวุฒิ', 'สุพิชา', 'สุพิศ', 'ศุภผล', 'ศุภรัตน์', 'สุประภา', 'สุรัตน์', 'สุรี', 'สุริยา', 'สุริยะ', 'สุธรรม', 'สุเทพ', 'สุทธิพล', 'สุทธิพงศ์', 'สุวรรณ', 'สุวิชา', 'สุวิทย์', 'ธเนศ', 'ตนุพล', 'ธีรศักดิ์', 'ทักษิณ', 'ธนากร', 'ธนาพร', 'ถนัด', 'ธนัชชา', 'ทวีฉัตร', 'ถวิล', 'ทวีป', 'ทวีศักดิ์', 'ทวีวงศ์', 'ธีรภัทร', 'ฐิตวรรณ', 'ฐิติภรณ์', 'ธงชัย', 'ทัศนีย์', 'อุบล', 'อุบลวรรณ', 'อุดม', 'อุกิต', 'อุกฤษฏ์', 'อัญญาณี', 'วีระ', 'วิโรจน์', 'วรภัทร', 'วานี', 'วัลลภา', 'วัลลภ', 'วรรณ', 'วรรณา', 'วันพล', 'วราภรณ์', 'วัชราภรณ์', 'วัฒนา', 'วิชัย', 'วิจารณ์', 'วิเชียร', 'วิจิตร', 'วิลาศ', 'วินัย', 'วีรยุทธ์', 'วิภา', 'วิภาภรณ์', 'วีระ', 'วีระชาย', 'วีระชาติ', 'วีระพันธุ์', 'วีระพล', 'วิราภรณ์', 'วีรศักดิ์', 'วีระศักดิ์', 'วิรัช', 'วิริยะ', 'วิสา', 'วิเศษ', 'วิศิษฏ์', 'วิทยา', 'วรพร', 'ญาณิน', 'เยาวพา', 'ยิ่งยศ', 'ยุพิน', 'ยุทธ์', 'ยุวรัตน์'], 'surname': ['เคนเนะดิ', 'ชินวัตร', 'ตั้งตระกูล', 'ติณสูลานนท์', 'บุตโต', 'พิศาลบุตร', 'วอชิงตัน', 'สมิท', 'บราวน์', 'สมิธ', 'รักไทย', 'เก่งงาน', 'หงสกุล', 'สโตเกอร์', 'พันธุเมธา', 'ไกลดอน', 'เกิดทะเล', 'กลอนครบุรี', 'กุญชร ณ อยุธยา', 'ไกรสรสิทธิ', 'ไกลดอน', 'เกิดทะเล', 'กลอนครบุรี', 'กุญชร ณ อยุธยา', 'ไกรสรสิทธิ', 'กลิ่นโกมุท', 'เก็บไว้', 'เกษมใส', 'กุลศรี', 'เกิดเงิน', 'กมลาส ณ อยุธยา', 'กปิตถา', 'กล้วยไม้', 'กุญชร', 'กุสุมา', 'โกเมน', 'กมลาศน์', 'กฤตากร', 'เกษมศรี', 'เกษมสันต์', 'กิติยากร', 'กำภู', 'เกสรา', 'กาญจนะวิชัย', 'กัลยาณะวงศ์', 'แก่นหอม', 'แก่นจันทร์หอม', 'กันจรรยา', 'แก้วมณีชัย', 'แก้วมณี', 'กลิ่นบัว', 'กำแหงสงคราม', 'กัลยาณมิตร', 'โกศัลวัฒน์', 'โกมารกุล', 'เกตุทัต', 'เกยุราพันธ์', 'กัลยาณมิตร', 'เข็มทองปรุ', 'ไข่กระโทก', 'ขอบแนบกลาง', 'เขียวสุทธิ', 'ขันฑริก', 'ขัตติยะวรา', 'ขุนศึกเม็งราย', 'ขำแก้ว', 'เครือเพชร์', 'คมกฤส', 'คชหิรัญ', 'คชเสนี', 'คอลเทล', 'คเนจร', 'คัคณางค์', 'คชวงศ์', 'คชวงษ์', 'คชหิรัญ', 'คชวงศ์', 'คุณยศยิ่ง', 'งามพังเทียม', 'งามถิ่น', 'งอนรถ', 'จอบโพธิ์กลาง', 'แจ้งหมื่นไวย', 'เจริญตะคุ', 'ใจตฉิมพลี', 'จงจอหอ', 'จุ้ยกระโทก', 'จรครบุรี', 'จตุรานนท์', 'จงเจริญ', 'เจียรประดิษฐ์', 'จึงเจริญ', 'จันทร์สมบูรณ์', 'จุ่นพิจารณ์', 'จันทนสมิต', 'ใจสงเคราะห์', 'จันทร์เรืองเพ็ญ', 'เจริญไชย', 'จันทรวงศ์', 'จำปาขาว', 'จันทิมานนท์', 'จงใจหาญ', 'จุละเดชะ', 'จันทร์พิทักษ์', 'จารุสิงห์', 'จุลดิลก', 'เจษฏางกูร', 'จักรพันธุ์', 'จันทรทัต', 'จิตรพงศ์', 'จิรประวัติ', 'จักรพงษ์', 'จุฑาธุช', 'จาตุรงคกุล', 'จรูญโรจน์', 'จันทยศ', 'จารุจินดา', 'จารุจินดา', 'จันทโรจวงศ์', 'จาตุรงคกุล', 'จงเจริญ', 'จงเสถียร', 'จงพิพัฒนากุล', 'จงจิตรนันท์', 'จงธรรมานุรักษ์', 'จองจตุพร', 'จองวรรณศิริ', 'จองบุญวัฒนา', 'ฉ่ำเมืองปัก', 'เฉลิมทรัพย์', 'จาตุรงคกุล', 'ฉัตรกุล', 'ฉัตรไชย', 'ชิงเมืองปัก', 'ชำนาญในเมือง', 'ชมโคกกรวด', 'ชุ่มกระโทก', 'โชติพิมาย', 'ชาวพิมาย', 'เชยขุนทด', 'แช่มขุนทด', 'เชิดขุนทด', 'ชาขุนทด', 'ช่างขุนทด', 'ชอบขุนทด', 'แชขุนทด', 'เชษฐานอก', 'ชิดนอก', 'ชุมสาย ณ อยุธยา', 'ชูโต', 'ชุมากร', 'ชลายนเดชะ', 'ชุณหวัต', 'ไชยสุต', 'ชัยวัฒน์', 'ชโนดม', 'ชูช่วย', 'เชาวนภูมิ', 'ไชยาคำ', 'ชุมแสง', 'ชมพูนุท', 'ชุมสาย', 'ชยางกูร', 'ชุมพล', 'ไชยันต์', 'ชูโต', 'ไชยเมือง', 'ไชยวงศ์', 'เชื้อเจ็ดคน', 'เชิญธงชัย', 'ชูกริส', 'ไชยกาล', 'เชื้อเมืองพาน', 'ชุนหะวัณ', 'ชำนาญกิจ', 'แซ่จาง', 'แซ่แต้', 'แซ่ตั้ง', 'เฉิน', 'แซ่หวัง', 'แซ่เฮ้ง', 'แซ่เอ็ง', 'หวัง', 'แซ่ลี้', 'หลี่', 'แซ่ม่ง', 'แซ่หมง', 'เหมิง', 'แซ่หยาง', 'แซ่ย่าง', 'แซ่เอี้ย', 'หยาง', 'แซ่เตี้ย', 'แซ่จาง', 'จาง', 'แซ่เล่า', 'แซ่หลิว', 'เล้า', 'แซ่หวัง', 'แซ่ว่อง', 'แซ่อึ๊ง', 'อึ้ง', 'ณ', 'ณ บางช้าง', 'ณ ลำปาง', 'ณ อุบล', 'ณ นคร', 'ณ กรุงเทพ', 'ณ สงขลา', 'ณ พัทลุง', 'ดีนวลพะเนาว์', 'ดอกจันทึก', 'เดชพรหมราช', 'ดีกิ่ง', 'ดีสำโรง', 'ดอกสันเทียะ', 'ดีพุดซา', 'เดชสูงเนิน', 'เดชพลกรัง', 'ด้วงพลกรัง', 'ดาวโคกสูง', 'ดีโคกกรวด', 'ดีทองหลาง', 'ดีงูเหลือม', 'ดิษขุนทด', 'ดีชนะ', 'ดอนนอก', 'ดิษยบุตร', 'ดุษฎี', 'ดารายน', 'ดีวาจิน', 'เดเนียล', 'ดวงจักร', 'ดารากร', 'เดชาติวงศ์', 'ดอกไม้', 'ดวงสนิท', 'ด่านไพบูลย์', 'ตังโพธิ์กลาง', 'ติสันเทียะ', 'โตพันดุง', 'โตกระโทก', 'โตรำพิมาย', 'ไตรกิติยานุกูล', 'ไต่เมฆ', 'เต็มสงสัย', 'แตงทอง', 'ตัณโชติ', 'ตัณฑนุช', 'ตันติเวชกุล', 'ตุลยาทร', 'ติวานนท์', 'ตรองโตนิล', 'ตรีนิกร', 'เตชะมณี', 'แดงสว่าง', 'ติศกุล', 'โตษะณีย์', 'ตุงคนาคร', 'ตามไท', 'ตันติวิท', 'ตั้งมติธรรม', 'เต็มพิริยะกุล', 'เต็มศิริพงศ์', 'ติเยาว์', 'เถียรในเมือง', 'ถนอมในเมือง', 'แถวจันทึก', 'ถนอมพลกรัง', 'ถิ่นโคกสูง', 'เถื่อนหรุ่น', 'เถลิงพล', 'ถมยาวิทย์', 'ทิพย์สูงเนิน', 'ทองกระโทก', 'ทินกระโทก', 'ทองกระโทก', 'ทองพิมาย', 'เทียมครบุรี', 'ทองใหญ่ ณ อยุธยา', 'ทองเนียม', 'ทองรอด', 'ทวาทสิน', 'ทาค่อ', 'ทัศจันทร์', 'ทวีสุข', 'เทพธี', 'ทัพพะวงศ์', 'ทรัพย์แสงส่ง', 'เทวะประทีป', 'เทพหัสดิน ณ อยุธยา', 'เทพหัสดิน', 'ทัพพะกุล', 'ทินกร', 'ทวีวงศ์', 'ทองแถม', 'ทองใหญ์', 'เทวกุล', 'เทพวงศ์', 'โทธรรม', 'ทองพิทักษ์', 'ธัญญขันธ์', 'ธนาบูรณ์', 'ธรรมสโรช', 'ธูสรานนท์', 'ธนัญชยานนท์', 'ในหมื่นไวย', 'นอดอน', 'นพพลกรัง', 'นามใหม่', 'โนนโคกสูง', 'นิลจอหอ', 'นอนโพธิ์', 'ในเกาะ', 'นกกระโทก', 'นาคขุนทด', 'เนนเลิศ', 'นาคชำนาญ', 'นาคะตะ', 'นิ่มพินิจ', 'นิยม', 'นิลวงศ์', 'นพวงศ์ ณ อยุธยา', 'นรินทรางกูร', 'นรินทรกุล', 'นิยมิศร', 'นิลรัตน', 'นพวงศ์', 'นีรสิงห์', 'นันทิศักดิ์', 'นวรัตน', 'นันทวัน', 'นามวงศ์', 'นันทิยา', 'นุชนิยม', 'นาคน้อย', 'เนียมสุริยะ', 'นิลนานนท์', 'นพวงศ์', 'นิยมเดชา', 'บุณโยดม', 'บ่วงราบ', 'บนตะขบ', 'ใบกลาง', 'บินดอน', 'บอนสันเทียะ', 'โบกกำปัง', 'บัตรสูงเนิน', 'โบสูงเนิน', 'ใบพุดซา', 'บรรจงปรุ', 'บ้านโพธิ์', 'บาทงูเหลือม', 'ใบขุนทด', 'บวดขุนทด', 'เบียนขุนทด', 'บางขุนทด', 'ใบขุนทด', 'บอบขุนทด', 'บุนนาค', 'บุณยามระ', 'บุนอินทร์', 'บุญประเสริฐ', 'บุญโรจน์', 'บำรุงผล', 'บรรหารทัณฑกิจ', 'บัณฑิตานนท์', 'บราวน์', 'บิชอบ', 'บุรานนท์', 'บุรณศิริ', 'บริพัตร', 'บรรยงกะเสนา', 'บุตรรัตน์', 'บุนนาค', 'บุณยรัตพันธ์', 'บัวขาว', 'บุตโรบล', 'บุญปะเกศ', 'แป้นค้างพลู', 'ประเสริฐพลกรัง', 'ปานใหม่', 'ไปล่งูเหลือม', 'ปานนอก', 'ปานทอง', 'ปาลกวงศ์ ณ อยุธยา', 'ปวนะฤทธิ์', 'ปรัชญานนท์', 'เปรมชื่น', 'เปมะโยธิน', 'เปรมัษเฐียร', 'ปานะนนท์', 'ปานถาวร', 'เปลี่ยนราศี', 'ปัทมจินดา', 'ปิ่มสุวรรณ', 'ประภาพันธ์', 'ปาลกวงศ์ ณ อยุธยา', 'ปราโมช', 'ปิยากร', 'ประวิตร', 'ปัทมสิงห์', 'ปาลกะวงศ์', 'ปิยะอุย', 'ปราโมท', 'โปษยานนท์', 'ผลสันเทียะ', 'ผลฉิมพลี', 'ผันจะโป๊ะ', 'ผิวพังเทียม', 'เผ่นสายออ', 'ผันจอหอ', 'เผื่อนงูเหลือม', 'ผลกล้วย', 'ผาทอง', 'ไฝกิ่ง', 'ฝ้ายโคกสูง', 'ฝันเซียร', 'ฝันเซียน', 'พงษ์หมื่นไวย', 'เพียหมื่นไวย', 'พรมพระเนาว์', 'พุดทะเล', 'พวกเกาะ', 'เพิ่มกระโทก', 'พลูกระโทก', 'พงษ์พิมาย', 'เพียกขุนทด', 'พันชนะ', 'เพียงชนะ', 'เพิกขุนทด', 'เพิ่มขุนทด', 'พิมลนอก', 'โพธิ์นอก', 'เพลี่ยนอก', 'พรหมนอก', 'พลอยครบุรี', 'พัวเวส', 'พาเจริญ', 'พาณิชสุโข', 'พลาพิบูลย์', 'พิพัฒน์', 'พูนเจริญ', 'พุ่มสวัสดิ์', 'พื้นชมภู', 'แพงอินทร์', 'โพธิตาปนะ', 'โพธิวิหก', 'พรรณโรจน์', 'แพ่งสภา', 'พงษ์กัณหา', 'พรโสภณ', 'พรหมจรรย์', 'พงษ์สิน', 'พึ่งบุญ', 'พนมวัน', 'ไพฑูรย์', 'เพ็ญพัฒน์', 'พยัคฆเสนา', 'พรหเมศ', 'พิทักษ์คุมพล', 'พาณิชย์กุล', 'พาณิชกุล', 'พรหมวงค์นนท์', 'พงษ์สิน', 'เฟื่องฟู', 'เฟื่องดอกไม้', 'เฟิ้ทธ์', 'ภาคสันเทียะ', 'ภักดีจอหอ', 'ภูมิโคกรักษ์', 'ภูติจินดานนท์', 'ภูมิถาวร', 'ภาณุมาศ ณ อยุธยา', 'ภาณุพันธ์', 'ภุมรินทร', 'ภาณุมาศ', 'โภภณพาณิชย์', 'มณีด่านจาก', 'โมพันดุง', 'โมโคกกรวด', 'มองกระโทก', 'เมฆขุนทด', 'มากขุนทด', 'มุ่งตรงกลาง', 'เมษะมาน', 'เมธา', 'ม่วงกล่ำ', 'มนุอมร', 'ม่วงวิโรจน์', 'มีบุตร', 'มีเมศกุล', 'มิตรกูล', 'มนตรีกุล', 'มรกฎ', 'มหากุล', 'มาลากุล', 'มหิดล', 'มหาณรงค์', 'มหาวงศ์', 'มหายศปัญญา', 'เมืองพระ', 'มหาณรงค์', 'มากคล้าย', 'แย้มจะบก', 'ยีสันเทียะ', 'เย็นสันเทียะ', 'โยงทะเล', 'ยุ้งชมโพธิ์', 'ย่านกลาง', 'ยศธร', 'ยิ้มน้อย', 'แย้มเยื้อน', 'ยุกตานนท์', 'ยุคล', 'ยุคันธร', 'ยุคนธรานนท์', 'ใยยาณ', 'ยังวานิช', 'ยังวิเศษสุข', 'ยังวะนิชย์', 'ร่มเมืองปัก', 'รัตนเนนย์', 'ร่มสูงเนิน', 'รากพุดซา', 'โรจน์ฉิมพลี', 'ระวังกิ่ง', 'รวยกิ่ง', 'รอสูงเนิน', 'เร้าสูงเนิน', 'ร่มโคกสูง', 'รายนอก', 'โรจนวิภาต', 'โรจน์ชลาสิทธิ์', 'รัตนภัคดี', 'รอดแสงสินธุ์', 'รุ่งไพโรจน์', 'รัตนโกศ', 'รัตนภาณุ', 'เรณุนันทน์', 'รพีพัฒน์', 'รังสิต', 'รองทอง', 'รังสิเสนา', 'รัชนิกร', 'รุจจวิชัย', 'รัชนี', 'รสเข้ม', 'รัตนวงศ์', 'รามางกูล', 'โรจนดิศ', 'รามสูตร', 'รามบุตร', 'รอดศิริ', 'รัตนประทีป', 'รุ่งไพโรจน์', 'รัตกูล', 'รัตนกุล', 'รัตนกุลเสรี', 'เริงฤทธิ์', 'ฤทธิ์ใหม่', 'ฤทธิกาญจน์', 'ล้อมในเมือง', 'เลิศตะคุ', 'ลอยตะขบ', 'เลิศโพธิ์กลาง', 'โลกสายออ', 'โลทองหลาง', 'ลีละชาติ', 'ลางคุลเสน', 'เลิศมงคล', 'เลี้ยงรื่นรมย์', 'เล็กน้อย', 'ลิ้มทองกุล', 'เลขนาวิน', 'ลุมพิกานนท์', 'โล่สุวรรณ', 'เลวิส', 'ลดาวัลย์ ณ อยุธยา', 'ลักษณสุต', 'ลดาวัลย์', 'ลำยอง', 'ลังกาพินธุ์', 'ลุ่นเซี๊ยะ', 'ลีลาวณิชกุล', 'ลีลาประชากุล', 'ลีลารัศมี', 'ลีมามั่งคง', 'ลี้ถาวร', 'ลี้อิสระนุกูล', 'ลีนุตพงศ์', 'ลีรุ่งเรือง', 'เลิศศิริมิตร', 'เลิศนำพงศ์', 'เลิศชัยประเสริฐ', 'เลาหทวีโชค', 'เลาหพงษ์ชนะ', 'เลาหสุรโยธิน', 'เลาหสุวัฒน์กุล', 'เลาวัฒศิริ', 'ลิ่วมโนมนต์', 'ลิ่วเฉลิมวงศ์', 'เล่าบุญลือ', 'วัชระคุปต์', 'วิโรจน์จรรยา', 'เวชโพธิ์กลาง', 'แววฉิมพลี', 'วิเวชผักแว่น', 'วงศ์จันทึก', 'แววโคกสูง', 'เวยกระโทก', 'วะกระโทก', 'วายทองหลาง', 'วิไลสีสุก', 'วายโคกรักษ์', 'วัฒนสุข', 'วัฒนา', 'วาสภูติ', 'วินิจฉัยกุล', 'วัฒนายน', 'วัฒนสุวกุล', 'วัจนรัตน์', 'วงศ์ละม้าย', 'วงศ์ไทย', 'วงศ์สันต์', 'วงศ์ประเทือง', 'วรรณศิริ', 'วัฒโน', 'วณิชกิจ', 'ไวยนพ', 'วิภาตะศิงปิน', 'วัชรีวงศ์', 'วรวรรณ', 'วัฒนวงศ์', 'วุฒิชัย', 'วรรัตน์', 'วิไลยวงศ์', 'วรวุฒิ', 'วิบูลยพรรณ', 'วิสุทธิ', 'วิรัตน์เกษม', 'วงษ์ศิริ', 'วงศ์วรญาติ', 'วังซ้าย', 'วิจผัน', 'วงศ์เมืองแก่น', 'วงศ์พระถาง', 'วราราช', 'วงศ์บุรี', 'วงศ์ดาราวรรณ', 'วนะรมย์', 'วสุรัตน์', 'วงศ์ภัทรกุล', 'วงศ์ไวโรจน์', 'ว่องปรีชา', 'ว่องวานิช', 'ว่องวิวรรธน์', 'ว่องชาญกิจ', 'วงศ์แจ่มเจริญ', 'วงศ์วัชรมงคล', 'วงศ์แสงทิพย์', 'ศรีหมื่นไวย', 'ศุกระสูยะ', 'ศรสูงเนิน', 'ศรีจันทึก', 'ศรีมะเริง', 'เรืองมะเริง', 'ศรีปรุ', 'ศรีนอก', 'ศรีเพ็ญ', 'ศรียาภัย', 'เศรษฐบุตร', 'เศวตเศรณี', 'ศรียานนท์', 'ศรีมาศ', 'ศรีเสาวชาติ', 'ศรีวัฒนะ', 'ศรีสาทร', 'ศรีวรรธนะ', 'ศรทัต', 'ศุนวัต', 'ศุขหัส', 'ศิริสัมพันธ์', 'ศุภสิทธิ์', 'ศิริสุทธิ', 'ศิริสุวรรณ', 'ศิริวรรณ', 'ศิลานนท์', 'ศรีธวัช ณ อยุธยา', 'ศิริวงศ์', 'ศรีธวัช', 'ศุขสวัสดิ', 'โศภางค์', 'ศักดิเดชภาณุพันธ์', 'ศิลานนท์', 'ศีติสาร', 'ศรีเพ็ญ', 'ศิริ', 'ศรุตานนท์', 'ศรีจันทร์แดง', 'ศุภดิษฐ์', 'ศิริพร', 'ศรีธัญรัตน์', 'ศุภสร', 'ศิลานนท์', 'ศิริธร', 'แสงตะคุ', 'เสือมาพะเนาว์', 'สุบงกช', 'สำราญจะโป๊ะ', 'สีผักแว่น', 'เส็งกำปัง', 'ใสกำปัง', 'สุขกำปัง', 'สว่างกำปัง', 'สร้อยสูงเนิน', 'สาทะเล', 'สดพลกรัง', 'สว่างพลกรัง', 'สินปรุ', 'สกุลใหม่', 'ใสใหม่', 'สูบโคกสูง', 'สืบค้า', 'โสโคกรักษ์', 'สงนอก', 'เสียวครบุรี “สังฆมานนท์', 'สนิทวงศ์ ณ อยุธยา', 'แสงชูโต', 'สุวรรณ', 'สาตรพันธ์', 'สารสุบรรณ', 'เสถบุตร', 'สุดลาภา', 'สุนทรสิงห์', 'สุวรรณาคร', 'สุวรรณี', 'สุวรรณวิเศษ', 'สุภัทรพันธ์', 'สุขสวัสดิ์', 'สุจปลื้ม', 'สุจริต', 'สู้ทุกทิศ', 'สถานุวัตร', 'สิริสิงห์', 'แสงนาค', 'สมรภูมิพิชิต', 'สติติรัตน์', 'สีหอุไร', 'สืบพงศ์พันธ์', 'เสงี่ยมพงษ์', 'สาครบุตร์', 'สังข์ฉาย', 'สิงห์คำ', 'สิทธิสรวง', 'แสนทรงสุรศักดิ์', 'สโตล', 'สินสุข', 'สุริยกุล ณ อยุธยา', 'สุวงศ์', 'สุขกสิกร', 'แสงต่าย', 'สายศิลปี', 'สุทัศน์', 'สุริยกุล', 'สนิทวงศ์', 'สิงหรา', 'สุบรรณ', 'สวัสดิกุล', 'สวัสดิวัตน์', 'สุประดิษฐ์', 'โสณกุล', 'สุริยง', 'สินสุข', 'สินศุข', 'สังขทัต', 'สหาวุธ', 'สีสังข์', 'สุธารส', 'สายสนั่น', 'สุทัศนีย์', 'เสนีวงศ์', 'แสง-ชูโต', 'สวัสดิ์-ชูโต', 'สิริสัมพันธ์', 'สุยะราช', 'สาลี', 'สุขสวัสดิ์', 'สายเสมา', 'เสมามิ่ง', 'แสนศิริพันธ์', 'สารศิริวงศ์', 'สุดลาภา', 'สุวรรณกฎ', 'สิงหัษฐิต', 'แสนทวีสุข', 'สุรพัฒน์', 'เสนคุณ', 'สโรบล', 'สินสุข', 'สมบัติศิริ', 'เหมนิธิ', 'หวลสันเทียะ', 'หันสันเทียะ', 'หลงพังเทียม', 'ห่วงสายออ', 'หวานสูงเนิน', 'เหมจันทึก', 'หาญทะเล', 'แหวกกระโทก', 'เหิมกระโทก', 'ไหมกระโทก', 'หวงนกระโทก', 'หลงพิมาย', 'เหิมขุนทด', 'หวังแอบกลาง', 'เหลืองจันอัด', 'หอรัตนชัย', 'หวังดี', 'หุราพันธ์', 'แหลมวิไล', 'หัสดินทร', 'หัวเมืองแก้ว', 'หิรัญมุทราภรณ์', 'หุ้นย่อง', 'หงสกุล', 'หวังธำรง', 'หวังสถิตพร', 'หวังเจริญวงศ์', 'หวังไพศิฐ', 'หวังโสภารักษ์', 'เหล่าสุวรรณ', 'เหล่ากาญจนคร', 'เหล่ารังสีรัตน์', 'เหล่าศิริพงษ์', 'เหล่าทวีสุข', 'หวังวัฒนานุกุล', 'หวังพิชิต', 'หวังสาธิต', 'เหลืองอมรเลิศ', 'เหลืองสุวรรณ', 'อินทโสพัส', 'อินทะกนก', 'อินทรกำแหง', 'อิมโมหมื่นไวย', 'แอมผักแว่น', 'แอบจังหรีด', 'แอบค้างพลู', 'อาจสูงเนิน', 'อ้นสูงเนิน', 'แอบจันทึก', 'อิ่มกระโทก', 'อาบครบุรี', 'อุตมัง', 'อยู่โพธิ์', 'อาจวงษ์', 'อาจแย้มสรวล', 'อาคะมานนท์', 'อรุณพันธ์', 'อร่ามศรี', 'อินทรกำแหง ณ ราชสีมา', 'อารมณ์สว่าง', 'อังศุมาลีกุล', 'อำนาจสรการ', 'อำมาตยานนท์', 'อินทรพิทักษ์', 'อินทรโยธิน', 'อิศรางกูล ณ อยุธยา', 'อิสรางกูร', 'อรุณวงศ์', 'อาภรณ์กุล', 'อรณพ', 'อุไรพงศ์', 'อาภากร', 'อินทรโยธิน', 'อสุนี', 'อิศรเสนา', 'อิศรศักดิ์', 'อนุชะศักดิ์', 'อิ่นคำลือ', 'อุดรพงศ์', 'อิศรเสนา', 'อินทรสูตร', 'อิศรางกูล', 'อินสว่าง', 'อินทรกำแหง', 'อินทโสพัศ', 'อินทนุชิต', 'อมรดลใจ', 'อินทรโยธิน', 'อนุทวงศ์', 'เอี่ยม...', 'เอี่ยว...', 'อริยะ...', 'อุดม...', 'อิทธิ...', 'องอาจ...', 'ไฮกระโทก', 'ฮวดเจริญ', 'โฮลบรู๊ค', 'ฮาร์นเสน', 'ฮอร์น', 'เฮงสกุล', 'เฮงตระกูลสิน', 'ไกลดอน', 'เกิดทะเล', 'กลอนครบุรี', 'กุญชร ณ อยุธยา', 'ไกรสรสิทธิ', 'กลิ่นโกมุท', 'เก็บไว้', 'เกษมใส', 'กุลศรี', 'เกิดเงิน', 'กมลาส ณ อยุธยา', 'กปิตถา', 'กล้วยไม้', 'กุญชร', 'กุสุมา', 'โกเมน', 'กมลาศน์', 'กฤตากร', 'เกษมศรี', 'เกษมสันต์', 'กิติยากร', 'กำภู', 'เกสรา', 'กาญจนะวิชัย', 'กัลยาณะวงศ์', 'แก่นหอม', 'แก่นจันทร์หอม', 'กันจรรยา', 'แก้วมณีชัย', 'แก้วมณี', 'กลิ่นบัว', 'กำแหงสงคราม', 'กัลยาณมิตร', 'โกศัลวัฒน์', 'โกมารกุล', 'เกตุทัต', 'เกยุราพันธ์', 'กัลยาณมิตร', 'เข็มทองปรุ', 'ไข่กระโทก', 'ขอบแนบกลาง', 'เขียวสุทธิ', 'ขันฑริก', 'ขัตติยะวรา', 'ขุนศึกเม็งราย', 'ขำแก้ว', 'เครือเพชร์', 'คมกฤส', 'คชหิรัญ', 'คชเสนี', 'คอลเทล', 'คเนจร', 'คัคณางค์', 'คชวงศ์', 'คชวงษ์', 'คชหิรัญ', 'คชวงศ์', 'คุณยศยิ่ง', 'งามพังเทียม', 'งามถิ่น', 'งอนรถ', 'จอบโพธิ์กลาง', 'แจ้งหมื่นไวย', 'เจริญตะคุ', 'ใจตฉิมพลี', 'จงจอหอ', 'จุ้ยกระโทก', 'จรครบุรี', 'จตุรานนท์', 'จงเจริญ', 'เจียรประดิษฐ์', 'จึงเจริญ', 'จันทร์สมบูรณ์', 'จุ่นพิจารณ์', 'จันทนสมิต', 'ใจสงเคราะห์', 'จันทร์เรืองเพ็ญ', 'เจริญไชย', 'จันทรวงศ์', 'จำปาขาว', 'จันทิมานนท์', 'จงใจหาญ', 'จุละเดชะ', 'จันทร์พิทักษ์', 'จารุสิงห์', 'จุลดิลก', 'เจษฏางกูร', 'จักรพันธุ์', 'จันทรทัต', 'จิตรพงศ์', 'จิรประวัติ', 'จักรพงษ์', 'จุฑาธุช', 'จาตุรงคกุล', 'จรูญโรจน์', 'จันทยศ', 'จารุจินดา', 'จารุจินดา', 'จันทโรจวงศ์', 'จาตุรงคกุล', 'จงเจริญ', 'จงเสถียร', 'จงพิพัฒนากุล', 'จงจิตรนันท์', 'จงธรรมานุรักษ์', 'จองจตุพร', 'จองวรรณศิริ', 'จองบุญวัฒนา', 'ฉ่ำเมืองปัก', 'เฉลิมทรัพย์', 'จาตุรงคกุล', 'ฉัตรกุล', 'ฉัตรไชย', 'ชิงเมืองปัก', 'ชำนาญในเมือง', 'ชมโคกกรวด', 'ชุ่มกระโทก', 'โชติพิมาย', 'ชาวพิมาย', 'เชยขุนทด', 'แช่มขุนทด', 'เชิดขุนทด', 'ชาขุนทด', 'ช่างขุนทด', 'ชอบขุนทด', 'แชขุนทด', 'เชษฐานอก', 'ชิดนอก', 'ชุมสาย ณ อยุธยา', 'ชูโต', 'ชุมากร', 'ชลายนเดชะ', 'ชุณหวัต', 'ไชยสุต', 'ชัยวัฒน์', 'ชโนดม', 'ชูช่วย', 'เชาวนภูมิ', 'ไชยาคำ', 'ชุมแสง', 'ชมพูนุท', 'ชุมสาย', 'ชยางกูร', 'ชุมพล', 'ไชยันต์', 'ชูโต', 'ไชยเมือง', 'ไชยวงศ์', 'เชื้อเจ็ดคน', 'เชิญธงชัย', 'ชูกริส', 'ไชยกาล', 'เชื้อเมืองพาน', 'ชุนหะวัณ', 'ชำนาญกิจ', 'แซ่จาง', 'แซ่แต้', 'แซ่ตั้ง', 'เฉิน', 'แซ่หวัง', 'แซ่เฮ้ง', 'แซ่เอ็ง', 'หวัง', 'แซ่ลี้', 'หลี่', 'แซ่ม่ง', 'แซ่หมง', 'เหมิง', 'แซ่หยาง', 'แซ่ย่าง', 'แซ่เอี้ย', 'หยาง', 'แซ่เตี้ย', 'แซ่จาง', 'จาง', 'แซ่เล่า', 'แซ่หลิว', 'เล้า', 'แซ่หวัง', 'แซ่ว่อง', 'แซ่อึ๊ง', 'อึ้ง', 'ณ', 'ณ บางช้าง', 'ณ ลำปาง', 'ณ อุบล', 'ณ นคร', 'ณ กรุงเทพ', 'ณ สงขลา', 'ณ พัทลุง', 'ดีนวลพะเนาว์', 'ดอกจันทึก', 'เดชพรหมราช', 'ดีกิ่ง', 'ดีสำโรง', 'ดอกสันเทียะ', 'ดีพุดซา', 'เดชสูงเนิน', 'เดชพลกรัง', 'ด้วงพลกรัง', 'ดาวโคกสูง', 'ดีโคกกรวด', 'ดีทองหลาง', 'ดีงูเหลือม', 'ดิษขุนทด', 'ดีชนะ', 'ดอนนอก', 'ดิษยบุตร', 'ดุษฎี', 'ดารายน', 'ดีวาจิน', 'เดเนียล', 'ดวงจักร', 'ดารากร', 'เดชาติวงศ์', 'ดอกไม้', 'ดวงสนิท', 'ด่านไพบูลย์', 'ตังโพธิ์กลาง', 'ติสันเทียะ', 'โตพันดุง', 'โตกระโทก', 'โตรำพิมาย', 'ไตรกิติยานุกูล', 'ไต่เมฆ', 'เต็มสงสัย', 'แตงทอง', 'ตัณโชติ', 'ตัณฑนุช', 'ตันติเวชกุล', 'ตุลยาทร', 'ติวานนท์', 'ตรองโตนิล', 'ตรีนิกร', 'เตชะมณี', 'แดงสว่าง', 'ติศกุล', 'โตษะณีย์', 'ตุงคนาคร', 'ตามไท', 'ตันติวิท', 'ตั้งมติธรรม', 'เต็มพิริยะกุล', 'เต็มศิริพงศ์', 'ติเยาว์', 'เถียรในเมือง', 'ถนอมในเมือง', 'แถวจันทึก', 'ถนอมพลกรัง', 'ถิ่นโคกสูง', 'เถื่อนหรุ่น', 'เถลิงพล', 'ถมยาวิทย์', 'ทิพย์สูงเนิน', 'ทองกระโทก', 'ทินกระโทก', 'ทองกระโทก', 'ทองพิมาย', 'เทียมครบุรี', 'ทองใหญ่ ณ อยุธยา', 'ทองเนียม', 'ทองรอด', 'ทวาทสิน', 'ทาค่อ', 'ทัศจันทร์', 'ทวีสุข', 'เทพธี', 'ทัพพะวงศ์', 'ทรัพย์แสงส่ง', 'เทวะประทีป', 'เทพหัสดิน ณ อยุธยา', 'เทพหัสดิน', 'ทัพพะกุล', 'ทินกร', 'ทวีวงศ์', 'ทองแถม', 'ทองใหญ์', 'เทวกุล', 'เทพวงศ์', 'โทธรรม', 'ทองพิทักษ์', 'ธัญญขันธ์', 'ธนาบูรณ์', 'ธรรมสโรช', 'ธูสรานนท์', 'ธนัญชยานนท์', 'ในหมื่นไวย', 'นอดอน', 'นพพลกรัง', 'นามใหม่', 'โนนโคกสูง', 'นิลจอหอ', 'นอนโพธิ์', 'ในเกาะ', 'นกกระโทก', 'นาคขุนทด', 'เนนเลิศ', 'นาคชำนาญ', 'นาคะตะ', 'นิ่มพินิจ', 'นิยม', 'นิลวงศ์', 'นพวงศ์ ณ อยุธยา', 'นรินทรางกูร', 'นรินทรกุล', 'นิยมิศร', 'นิลรัตน', 'นพวงศ์', 'นีรสิงห์', 'นันทิศักดิ์', 'นวรัตน', 'นันทวัน', 'นามวงศ์', 'นันทิยา', 'นุชนิยม', 'นาคน้อย', 'เนียมสุริยะ', 'นิลนานนท์', 'นพวงศ์', 'นิยมเดชา', 'บุณโยดม', 'บ่วงราบ', 'บนตะขบ', 'ใบกลาง', 'บินดอน', 'บอนสันเทียะ', 'โบกกำปัง', 'บัตรสูงเนิน', 'โบสูงเนิน', 'ใบพุดซา', 'บรรจงปรุ', 'บ้านโพธิ์', 'บาทงูเหลือม', 'ใบขุนทด', 'บวดขุนทด', 'เบียนขุนทด', 'บางขุนทด', 'ใบขุนทด', 'บอบขุนทด', 'บุนนาค', 'บุณยามระ', 'บุนอินทร์', 'บุญประเสริฐ', 'บุญโรจน์', 'บำรุงผล', 'บรรหารทัณฑกิจ', 'บัณฑิตานนท์', 'บราวน์', 'บิชอบ', 'บุรานนท์', 'บุรณศิริ', 'บริพัตร', 'บรรยงกะเสนา', 'บุตรรัตน์', 'บุนนาค', 'บุณยรัตพันธ์', 'บัวขาว', 'บุตโรบล', 'บุญปะเกศ', 'แป้นค้างพลู', 'ประเสริฐพลกรัง', 'ปานใหม่', 'ไปล่งูเหลือม', 'ปานนอก', 'ปานทอง', 'ปาลกวงศ์ ณ อยุธยา', 'ปวนะฤทธิ์', 'ปรัชญานนท์', 'เปรมชื่น', 'เปมะโยธิน', 'เปรมัษเฐียร', 'ปานะนนท์', 'ปานถาวร', 'เปลี่ยนราศี', 'ปัทมจินดา', 'ปิ่มสุวรรณ', 'ประภาพันธ์', 'ปาลกวงศ์ ณ อยุธยา', 'ปราโมช', 'ปิยากร', 'ประวิตร', 'ปัทมสิงห์', 'ปาลกะวงศ์', 'ปิยะอุย', 'ปราโมท', 'โปษยานนท์', 'ผลสันเทียะ', 'ผลฉิมพลี', 'ผันจะโป๊ะ', 'ผิวพังเทียม', 'เผ่นสายออ', 'ผันจอหอ', 'เผื่อนงูเหลือม', 'ผลกล้วย', 'ผาทอง', 'ไฝกิ่ง', 'ฝ้ายโคกสูง', 'ฝันเซียร', 'ฝันเซียน', 'พงษ์หมื่นไวย', 'เพียหมื่นไวย', 'พรมพระเนาว์', 'พุดทะเล', 'พวกเกาะ', 'เพิ่มกระโทก', 'พลูกระโทก', 'พงษ์พิมาย', 'เพียกขุนทด', 'พันชนะ', 'เพียงชนะ', 'เพิกขุนทด', 'เพิ่มขุนทด', 'พิมลนอก', 'โพธิ์นอก', 'เพลี่ยนอก', 'พรหมนอก', 'พลอยครบุรี', 'พัวเวส', 'พาเจริญ', 'พาณิชสุโข', 'พลาพิบูลย์', 'พิพัฒน์', 'พูนเจริญ', 'พุ่มสวัสดิ์', 'พื้นชมภู', 'แพงอินทร์', 'โพธิตาปนะ', 'โพธิวิหก', 'พรรณโรจน์', 'แพ่งสภา', 'พงษ์กัณหา', 'พรโสภณ', 'พรหมจรรย์', 'พงษ์สิน', 'พึ่งบุญ', 'พนมวัน', 'ไพฑูรย์', 'เพ็ญพัฒน์', 'พยัคฆเสนา', 'พรหเมศ', 'พิทักษ์คุมพล', 'พาณิชย์กุล', 'พาณิชกุล', 'พรหมวงค์นนท์', 'พงษ์สิน', 'เฟื่องฟู', 'เฟื่องดอกไม้', 'เฟิ้ทธ์', 'ภาคสันเทียะ', 'ภักดีจอหอ', 'ภูมิโคกรักษ์', 'ภูติจินดานนท์', 'ภูมิถาวร', 'ภาณุมาศ ณ อยุธยา', 'ภาณุพันธ์', 'ภุมรินทร', 'ภาณุมาศ', 'โภภณพาณิชย์', 'มณีด่านจาก', 'โมพันดุง', 'โมโคกกรวด', 'มองกระโทก', 'เมฆขุนทด', 'มากขุนทด', 'มุ่งตรงกลาง', 'เมษะมาน', 'เมธา', 'ม่วงกล่ำ', 'มนุอมร', 'ม่วงวิโรจน์', 'มีบุตร', 'มีเมศกุล', 'มิตรกูล', 'มนตรีกุล', 'มรกฎ', 'มหากุล', 'มาลากุล', 'มหิดล', 'มหาณรงค์', 'มหาวงศ์', 'มหายศปัญญา', 'เมืองพระ', 'มหาณรงค์', 'มากคล้าย', 'แย้มจะบก', 'ยีสันเทียะ', 'เย็นสันเทียะ', 'โยงทะเล', 'ยุ้งชมโพธิ์', 'ย่านกลาง', 'ยศธร', 'ยิ้มน้อย', 'แย้มเยื้อน', 'ยุกตานนท์', 'ยุคล', 'ยุคันธร', 'ยุคนธรานนท์', 'ใยยาณ', 'ยังวานิช', 'ยังวิเศษสุข', 'ยังวะนิชย์', 'ร่มเมืองปัก', 'รัตนเนนย์', 'ร่มสูงเนิน', 'รากพุดซา', 'โรจน์ฉิมพลี', 'ระวังกิ่ง', 'รวยกิ่ง', 'รอสูงเนิน', 'เร้าสูงเนิน', 'ร่มโคกสูง', 'รายนอก', 'โรจนวิภาต', 'โรจน์ชลาสิทธิ์', 'รัตนภัคดี', 'รอดแสงสินธุ์', 'รุ่งไพโรจน์', 'รัตนโกศ', 'รัตนภาณุ', 'เรณุนันทน์', 'รพีพัฒน์', 'รังสิต', 'รองทอง', 'รังสิเสนา', 'รัชนิกร', 'รุจจวิชัย', 'รัชนี', 'รสเข้ม', 'รัตนวงศ์', 'รามางกูล', 'โรจนดิศ', 'รามสูตร', 'รามบุตร', 'รอดศิริ', 'รัตนประทีป', 'รุ่งไพโรจน์', 'รัตกูล', 'รัตนกุล', 'รัตนกุลเสรี', 'เริงฤทธิ์', 'ฤทธิ์ใหม่', 'ฤทธิกาญจน์', 'ล้อมในเมือง', 'เลิศตะคุ', 'ลอยตะขบ', 'เลิศโพธิ์กลาง', 'โลกสายออ', 'โลทองหลาง', 'ลีละชาติ', 'ลางคุลเสน', 'เลิศมงคล', 'เลี้ยงรื่นรมย์', 'เล็กน้อย', 'ลิ้มทองกุล', 'เลขนาวิน', 'ลุมพิกานนท์', 'โล่สุวรรณ', 'เลวิส', 'ลดาวัลย์ ณ อยุธยา', 'ลักษณสุต', 'ลดาวัลย์', 'ลำยอง', 'ลังกาพินธุ์', 'ลุ่นเซี๊ยะ', 'ลีลาวณิชกุล', 'ลีลาประชากุล', 'ลีลารัศมี', 'ลีมามั่งคง', 'ลี้ถาวร', 'ลี้อิสระนุกูล', 'ลีนุตพงศ์', 'ลีรุ่งเรือง', 'เลิศศิริมิตร', 'เลิศนำพงศ์', 'เลิศชัยประเสริฐ', 'เลาหทวีโชค', 'เลาหพงษ์ชนะ', 'เลาหสุรโยธิน', 'เลาหสุวัฒน์กุล', 'เลาวัฒศิริ', 'ลิ่วมโนมนต์', 'ลิ่วเฉลิมวงศ์', 'เล่าบุญลือ', 'วัชระคุปต์', 'วิโรจน์จรรยา', 'เวชโพธิ์กลาง', 'แววฉิมพลี', 'วิเวชผักแว่น', 'วงศ์จันทึก', 'แววโคกสูง', 'เวยกระโทก', 'วะกระโทก', 'วายทองหลาง', 'วิไลสีสุก', 'วายโคกรักษ์', 'วัฒนสุข', 'วัฒนา', 'วาสภูติ', 'วินิจฉัยกุล', 'วัฒนายน', 'วัฒนสุวกุล', 'วัจนรัตน์', 'วงศ์ละม้าย', 'วงศ์ไทย', 'วงศ์สันต์', 'วงศ์ประเทือง', 'วรรณศิริ', 'วัฒโน', 'วณิชกิจ', 'ไวยนพ', 'วิภาตะศิงปิน', 'วัชรีวงศ์', 'วรวรรณ', 'วัฒนวงศ์', 'วุฒิชัย', 'วรรัตน์', 'วิไลยวงศ์', 'วรวุฒิ', 'วิบูลยพรรณ', 'วิสุทธิ', 'วิรัตน์เกษม', 'วงษ์ศิริ', 'วงศ์วรญาติ', 'วังซ้าย', 'วิจผัน', 'วงศ์เมืองแก่น', 'วงศ์พระถาง', 'วราราช', 'วงศ์บุรี', 'วงศ์ดาราวรรณ', 'วนะรมย์', 'วสุรัตน์', 'วงศ์ภัทรกุล', 'วงศ์ไวโรจน์', 'ว่องปรีชา', 'ว่องวานิช', 'ว่องวิวรรธน์', 'ว่องชาญกิจ', 'วงศ์แจ่มเจริญ', 'วงศ์วัชรมงคล', 'วงศ์แสงทิพย์', 'ศรีหมื่นไวย', 'ศุกระสูยะ', 'ศรสูงเนิน', 'ศรีจันทึก', 'ศรีมะเริง', 'เรืองมะเริง', 'ศรีปรุ', 'ศรีนอก', 'ศรีเพ็ญ', 'ศรียาภัย', 'เศรษฐบุตร', 'เศวตเศรณี', 'ศรียานนท์', 'ศรีมาศ', 'ศรีเสาวชาติ', 'ศรีวัฒนะ', 'ศรีสาทร', 'ศรีวรรธนะ', 'ศรทัต', 'ศุนวัต', 'ศุขหัส', 'ศิริสัมพันธ์', 'ศุภสิทธิ์', 'ศิริสุทธิ', 'ศิริสุวรรณ', 'ศิริวรรณ', 'ศิลานนท์', 'ศรีธวัช ณ อยุธยา', 'ศิริวงศ์', 'ศรีธวัช', 'ศุขสวัสดิ', 'โศภางค์', 'ศักดิเดชภาณุพันธ์', 'ศิลานนท์', 'ศีติสาร', 'ศรีเพ็ญ', 'ศิริ', 'ศรุตานนท์', 'ศรีจันทร์แดง', 'ศุภดิษฐ์', 'ศิริพร', 'ศรีธัญรัตน์', 'ศุภสร', 'ศิลานนท์', 'ศิริธร', 'แสงตะคุ', 'เสือมาพะเนาว์', 'สุบงกช', 'สำราญจะโป๊ะ', 'สีผักแว่น', 'เส็งกำปัง', 'ใสกำปัง', 'สุขกำปัง', 'สว่างกำปัง', 'สร้อยสูงเนิน', 'สาทะเล', 'สดพลกรัง', 'สว่างพลกรัง', 'สินปรุ', 'สกุลใหม่', 'ใสใหม่', 'สูบโคกสูง', 'สืบค้า', 'โสโคกรักษ์', 'สงนอก', 'เสียวครบุรี “สังฆมานนท์', 'สนิทวงศ์ ณ อยุธยา', 'แสงชูโต', 'สุวรรณ', 'สาตรพันธ์', 'สารสุบรรณ', 'เสถบุตร', 'สุดลาภา', 'สุนทรสิงห์', 'สุวรรณาคร', 'สุวรรณี', 'สุวรรณวิเศษ', 'สุภัทรพันธ์', 'สุขสวัสดิ์', 'สุจปลื้ม', 'สุจริต', 'สู้ทุกทิศ', 'สถานุวัตร', 'สิริสิงห์', 'แสงนาค', 'สมรภูมิพิชิต', 'สติติรัตน์', 'สีหอุไร', 'สืบพงศ์พันธ์', 'เสงี่ยมพงษ์', 'สาครบุตร์', 'สังข์ฉาย', 'สิงห์คำ', 'สิทธิสรวง', 'แสนทรงสุรศักดิ์', 'สโตล', 'สินสุข', 'สุริยกุล ณ อยุธยา', 'สุวงศ์', 'สุขกสิกร', 'แสงต่าย', 'สายศิลปี', 'สุทัศน์', 'สุริยกุล', 'สนิทวงศ์', 'สิงหรา', 'สุบรรณ', 'สวัสดิกุล', 'สวัสดิวัตน์', 'สุประดิษฐ์', 'โสณกุล', 'สุริยง', 'สินสุข', 'สินศุข', 'สังขทัต', 'สหาวุธ', 'สีสังข์', 'สุธารส', 'สายสนั่น', 'สุทัศนีย์', 'เสนีวงศ์', 'แสง-ชูโต', 'สวัสดิ์-ชูโต', 'สิริสัมพันธ์', 'สุยะราช', 'สาลี', 'สุขสวัสดิ์', 'สายเสมา', 'เสมามิ่ง', 'แสนศิริพันธ์', 'สารศิริวงศ์', 'สุดลาภา', 'สุวรรณกฎ', 'สิงหัษฐิต', 'แสนทวีสุข', 'สุรพัฒน์', 'เสนคุณ', 'สโรบล', 'สินสุข', 'สมบัติศิริ', 'เหมนิธิ', 'หวลสันเทียะ', 'หันสันเทียะ', 'หลงพังเทียม', 'ห่วงสายออ', 'หวานสูงเนิน', 'เหมจันทึก', 'หาญทะเล', 'แหวกกระโทก', 'เหิมกระโทก', 'ไหมกระโทก', 'หวงนกระโทก', 'หลงพิมาย', 'เหิมขุนทด', 'หวังแอบกลาง', 'เหลืองจันอัด', 'หอรัตนชัย', 'หวังดี', 'หุราพันธ์', 'แหลมวิไล', 'หัสดินทร', 'หัวเมืองแก้ว', 'หิรัญมุทราภรณ์', 'หุ้นย่อง', 'หงสกุล', 'หวังธำรง', 'หวังสถิตพร', 'หวังเจริญวงศ์', 'หวังไพศิฐ', 'หวังโสภารักษ์', 'เหล่าสุวรรณ', 'เหล่ากาญจนคร', 'เหล่ารังสีรัตน์', 'เหล่าศิริพงษ์', 'เหล่าทวีสุข', 'หวังวัฒนานุกุล', 'หวังพิชิต', 'หวังสาธิต', 'เหลืองอมรเลิศ', 'เหลืองสุวรรณ', 'อินทโสพัส', 'อินทะกนก', 'อินทรกำแหง', 'อิมโมหมื่นไวย', 'แอมผักแว่น', 'แอบจังหรีด', 'แอบค้างพลู', 'อาจสูงเนิน', 'อ้นสูงเนิน', 'แอบจันทึก', 'อิ่มกระโทก', 'อาบครบุรี', 'อุตมัง', 'อยู่โพธิ์', 'อาจวงษ์', 'อาจแย้มสรวล', 'อาคะมานนท์', 'อรุณพันธ์', 'อร่ามศรี', 'อินทรกำแหง ณ ราชสีมา', 'อารมณ์สว่าง', 'อังศุมาลีกุล', 'อำนาจสรการ', 'อำมาตยานนท์', 'อินทรพิทักษ์', 'อินทรโยธิน', 'อิศรางกูล ณ อยุธยา', 'อิสรางกูร', 'อรุณวงศ์', 'อาภรณ์กุล', 'อรณพ', 'อุไรพงศ์', 'อาภากร', 'อินทรโยธิน', 'อสุนี', 'อิศรเสนา', 'อิศรศักดิ์', 'อนุชะศักดิ์', 'อิ่นคำลือ', 'อุดรพงศ์', 'อิศรเสนา', 'อินทรสูตร', 'อิศรางกูล', 'อินสว่าง', 'อินทรกำแหง', 'อินทโสพัศ', 'อินทนุชิต', 'อมรดลใจ', 'อินทรโยธิน', 'อนุทวงศ์', 'เอี่ยม...', 'เอี่ยว...', 'อริยะ...', 'อุดม...', 'อิทธิ...', 'องอาจ...', 'ไฮกระโทก', 'ฮวดเจริญ', 'โฮลบรู๊ค', 'ฮาร์นเสน', 'ฮอร์น', 'เฮงสกุล', 'เฮงตระกูลสิน'], 'nickname': ['กมล', 'กัน', 'แก้ว', 'ไก่', 'ขาว', 'เขียว', 'เค', 'เงาะ', 'จัน', 'จิต', 'จิ๋ม', 'จุ๋ม', 'เจ๋ง', 'เจต', 'เจี๊ยบ', 'แจ๋ว', 'ชา', 'ชาติ', 'ชิต', 'ชุ่ม', 'แช่ม', 'ณัฐ', 'ณี', 'ดวง', 'ดำ', 'แดง', 'ตรี', 'ต๋อง', 'ต้อม', 'ต้อย', 'ต๋อย', 'ติ๋ม', 'โต', 'นพ', 'น้อย', 'นาก', 'นาค', 'น้ำตาล', 'นิด', 'นุข', 'เนียร', 'ปลา', 'ป๋อง', 'ปุ๊ก', 'ปุ้ม', 'ปุ้ย', 'ปุ๋ย', 'ปู', 'เปิ้ล', 'เปี๊ยก', 'แป้ง', 'แป๊บ', 'เผือก', 'พวน', 'พา', 'เพิ่ม', 'ฟัก', 'ฟ้าใส', 'มณี', 'ม้า', 'เมย์', 'แม้น', 'โม่ง', 'รัตน์', 'รื่น', 'เล็ก', 'วิช', 'วิทย์', 'วี', 'ใส', 'หน่อย', 'หนึ่ง', 'หนู', 'หมิว', 'เหน่ง', 'อ้วน', 'อาร์ม', 'อิง', 'เอ๋', 'เอก', 'เอื้อย', 'แอ๊ด', 'แอน'], 'foreign_name': ['เกบรียล', 'กฤษณ์', 'กลอเรีย', 'กลิน', 'กลินอิส', 'กวินเน็ธ', 'กอร์ดอน', 'กัส', 'กาเบรียลล์', 'การ์ฟีลด์', 'การ์เรตต์', 'กิล', 'กิลเบิร์ต', 'กุสตาโว', 'เกร็ก', 'เกร็กกอรี่', 'เกรซ', 'เกรตา', 'เกรแฮม', 'เกล', 'เกล็น', 'เกว็น', 'เกวนโดลิน', 'เกวิน', 'แกรนต์', 'แกรนท์', 'แกร์รี่', 'แกรี่', 'โกรเวอร์', 'ไกย์', 'คริส', 'คริสตัล', 'คริสติน', 'คริสติน่า', 'คริสตี้', 'คริสตีน', 'คริสเต็น', 'คริสเตียน', 'คริสเตียน่า', 'คริสโตเฟอร์', 'คลอเดีย', 'คลาร์ก', 'คลาริสสา', 'คลินตัน', 'คลินท์', 'คลิฟตัน', 'คลิฟฟ์', 'คลีฟแลนด์', 'ควินซี', 'ควินซี่', 'คอนนี่', 'คอนราด', 'คอร์ทนี่ย์', 'คอรีย์', 'คาแซนดร้า', 'คาทรีนา', 'คามิล', 'คามิลลา', 'คาเมรอน', 'คาร์เมน', 'คาร์ล', 'คาร์ลอส', 'คาร์ล่า', 'คาร์ลี่', 'คาร์โล', 'คาร่า', 'คาริน', 'คารีน่า', 'คาลวิน', 'คาเล็บ', 'คิม', 'คิมเบอร์ลี', 'คิมเบอร์ลี่', 'คีธ', 'คีแรน', 'คีอานู', 'เคซี', 'เคท', 'เคทลิน', 'เคน', 'เคนนี', 'เค็นเน็ธ', 'เคย์', 'เคร็ก', 'เคลย์', 'เคลลี่', 'เควนติน', 'เควิน', 'เคอร์ติส', 'เคอร์รี่', 'เคิร์ก', 'เคิร์ท', 'เคิร์สตี้', 'เคิร์สเตน', 'แคทเทอรีน', 'แคทเธอรีน', 'แคธลีน', 'แคธี่', 'แคนดี้', 'แคร์รี', 'แครอล', 'แครี่', 'แคโรไลน์', 'แคโรไลนา', 'แคลร์', 'แคลริซ', 'แคลวิน', 'โคดี้', 'โคนัน', 'โคล', 'โคลด', 'โคลอี้', 'โคลิน', 'โคเล็ต', 'ไคย์ลี', 'ไคลด์', 'ไคลฟ์', 'จอช', 'จอน', 'จอนนี่', 'จอย', 'จอยซ์', 'จอร์จ', 'จอร์จิน่า', 'จอร์ดี้', 'จอร์แดน', 'จอห์น', 'จอห์นนี่', 'จัสติน', 'จัสติน่า', 'จัสตีน', 'จัสมิน', 'จิม', 'จิมมี', 'จิมมี่', 'จิล', 'จิลล์', 'จิลเลี่ยน', 'จิโอวานนี', 'จีน', 'จีนนี่', 'จีน่า', 'จีโน่', 'จู๊ด', 'จูดิธ', 'จูดี้', 'จูน', 'จูเนียร์', 'จูลี่', 'จูลีแอนน์', 'จูเลีย', 'จูเลี่ยน', 'จูเลียน่า', 'เจค', 'เจคอบ', 'เจน', 'เจ็น', 'เจนเซ่น', 'เจนนิเฟอร์', 'เจนนี่', 'เจฟ', 'เจฟฟรี่', 'เจฟฟรี่ย์', 'เจมส์', 'เจมี่', 'เจย์', 'เจเร็ด', 'เจสส์', 'เจสสิก้า', 'เจสัน', 'เจอรัลด์', 'เจอรัลดีน', 'เจอราร์ด', 'เจอรี่', 'เจอรี่ย์', 'เจอโรมี', 'แจ็ก', 'แจ็กกี้', 'แจ็ค', 'แจคเกอลีน', 'แจ็คสัน', 'แจนิส', 'แจเน็ต', 'แจสเปอร์', 'โจ', 'โจชัว', 'โจเซ่', 'โจเซฟ', 'โจเซฟิน', 'โจดี้', 'โจน', 'โจนัส', 'โจนาธาน', 'โจอี้', 'โจแอนน์', 'โจแอนนา', 'ชัค', 'ชาร์ลส์', 'ชาร์ล็อต', 'ชาร์ลี', 'ชารอน', 'ชีน่า', 'เชน', 'เชลซี', 'เชลบี้', 'เชสเตอร์', 'เชอร์รีล', 'เชอร์ลี่ย์', 'เชียลา', 'แชด', 'แชนดร้า', 'แชนเทล', 'แชนเทลล์', 'แชนนอน', 'ซอนนี่', 'ซอนย่า', 'ซาช่า', 'ซามูเอล', 'ซาแมนธา', 'ซาร่าห์', 'ซาโลมอน', 'ซิกมันด์', 'ซิด', 'ซิดนีย์', 'ซินดี้', 'ซินเธีย', 'ซิลเวสเตอร์', 'ซิเลีย', 'ซีเจ', 'ซีซาร์', 'ซู', 'ซูซาน', 'ซูซานน์', 'ซูซานนาห์', 'เซซิเลีย', 'เซดริค', 'เซธ', 'เซบาสเตียน', 'เซริล', 'เซลีน', 'เซอร์จิโอ', 'แซ็ค', 'แซ็คคารี่', 'แซคารี', 'แซนดร้า', 'แซนดี้', 'แซนเดอร์', 'แซม', 'แซมมี่', 'แซลลี่', 'โซฟี', 'โซเฟีย', 'โซอี้', 'ไซมอน', 'ฌอน', 'ฌาสซา', 'ฌีลา', 'เฌลลีย์', 'ดรูว์', 'ดไวต์', 'ดไวท์', 'ดอน', 'ดอนนา', 'ดอร์ริส', 'ดอว์น', 'ดั๊ก', 'ดั๊กลาส', 'ดันแคน', 'ดัสติน', 'ดาเนียล', 'ดาเมียน', 'ดาร์เรน', 'ดาร์เรล', 'ดาเรียส', 'ดิ๊ก', 'ดิลลอน', 'ดิออน', 'ดิเอโก', 'ดิแอน', 'ดีน', 'ดีแลน', 'เด็กซ์เตอร์', 'เดซี', 'เดซี่', 'เดนเซล', 'เดนนิส', 'เดนนี่', 'เดนีส', 'เดบบี้', 'เดบราห์', 'เดบาร่าห์', 'เดฟ', 'เดเร็ค', 'เดล', 'เดเลีย', 'เดวิด', 'แดน', 'แดนนี่', 'แดเนี่ยลล์', 'โดนัลด์', 'โดมินิค', 'โดโรธี', 'ไดอาน', 'ไดอาน่า', 'ติ๊นา', 'ทรอย', 'ทราวิส', 'ทริช', 'ทริชา', 'ท้อด', 'ทอม', 'ทอมโซน', 'ทอมมี่', 'ทอมัส', 'ทอรี', 'ทันย่า', 'ทามารา', 'ทิฟฟานี่', 'ทิม', 'ทิโมธี', 'ทิลดี้', 'ทีโอดอร์', 'เท็ด', 'เท็ดดี้', 'เททัม', 'เทย์เลอร์', 'เทรซีย์', 'เทรเวอร์', 'เทเรซ่า', 'เทเลอร์', 'เทอร์รี่', 'เทอเรนซ์', 'แทมมี', 'โทนี่', 'โทบี', 'โทเบียส', 'ไทเกอร์', 'ไทร่า', 'ไทโรน', 'ไทเลอร์', 'ธีโอ', 'ธีโอดอร์', 'เธลมา', 'โธมัส', 'นอร์ม่า', 'นอร์แมน', 'นอรีน', 'นาดีน', 'นาตาชา', 'นาตาลี', 'นาตาเลีย', 'นาธาน', 'นาธาเนียล', 'นาโอมิ', 'นิค', 'นิคกิ', 'นิโคล', 'นิโคลา', 'นิโคลาส', 'นีน่า', 'นีล', 'เนลสัน', 'แนนซี่', 'โนอาห์', 'โนเอล', 'ไนเจล', 'บรั่นดี', 'บริดเจ็ตต์', 'บริดเจ็ท', 'บริตทานี', 'บริททานีย์', 'บริทนีย์', 'บริล', 'บรู๊ค', 'บรูซ', 'บรูโน', 'บแรม', 'บอนนี่', 'บ๊อบ', 'บ๊อบบี่', 'บ๊อบบี้', 'บาร์ตัน', 'บาร์ท', 'บาร์บาร่า', 'บาร์บี้', 'บิล', 'บิลลี', 'บิอันกา', 'บี', 'บีทรีซ', 'บียอนเซ่', 'เบ็คกี้', 'เบซิล', 'เบ็ตซี่', 'เบ็ตตี้', 'เบ็ธ', 'เบธานี', 'เบ็น', 'เบนจามิน', 'เบ็นนี่', 'เบร็ทท์', 'เบรนดอน', 'เบรนดัน', 'เบรนด้า', 'เบลค', 'เบลลีย์', 'เบลินดา', 'เบอร์นาโด', 'เบอร์นาร์ด', 'เบอร์นี่', 'เบิร์ต', 'แบรด', 'แบรดลีย์', 'แบร์รี่', 'แบลร์', 'โบ', 'ไบรซ์', 'ไบรอน', 'ไบรอัน', 'ปีเตอร์', 'ปีแยร์', 'เปโตร', 'เปาโล', 'พริสซิลล่า', 'พอล', 'พอลลี', 'พอล่า', 'พอลีน', 'พาโบล', 'พาเมล่า', 'พาเวล', 'พีท', 'เพ็กกี้', 'เพจ', 'เพนนี', 'เพรสตัน', 'เพอร์รี่', 'เพียร์ซ', 'แพท', 'แพทซี่', 'แพทริค', 'แพทริเชีย', 'แพทริซ', 'แพม', 'ฟรังโก', 'ฟราน', 'ฟรานเชสก้า', 'ฟรานซ์', 'ฟรานซิส', 'ฟรานเซส', 'ฟลอร่า', 'ฟลอเรนซ์', 'ฟอร์เรสท์', 'ฟาติมา', 'ฟิล', 'ฟิลลิป', 'ฟิลลิส', 'ฟิลิปป์', 'ฟิลิปปา', 'ฟิโอน่า', 'ฟีบี้', 'เฟธ', 'เฟย์', 'เฟร็ด', 'เฟรดดี้', 'เฟร็ดเดอริค', 'เฟลิกซ์', 'เฟลิซิตี้', 'เฟอร์นันโด้', 'แฟรงก์', 'แฟรงกลิน', 'แฟรงกี้', 'แฟรนซีน', 'มอร์แกน', 'มอร์ริส', 'มอรีน', 'มอลลี่', 'มัทธิว', 'มัลคอล์ม', 'มาทิลดา', 'มานูเอล', 'มาร์กาเร็ต', 'มาร์ค', 'มาร์คัส', 'มาร์โค', 'มาร์จ', 'มาร์ช่า', 'มาร์ทิน', 'มาร์ธา', 'มาร์ลอน', 'มาริอุส', 'มาริโอ', 'มารี', 'มาเรีย', 'มิเกล', 'มิค', 'มิคกิ', 'มิคกี้', 'มิเชลล์', 'มิทเชลล์', 'มิแรนด้า', 'มิลลี่', 'มีแกน', 'เมก', 'เมแกน', 'เมย์', 'เมล', 'เมลานี่', 'เมลิสา', 'เมสัน', 'เมอร์เซเดส', 'เมอร์เรย์', 'เมอร์ลินดา', 'แม็กกี้', 'แม็กซ์', 'แมกซิมิเลียน', 'แม็คเคนซี', 'แมดิลินน์', 'แมดิสัน', 'แมทท์', 'แมนดี่', 'โมนิก้า', 'โมฮัมมัด', 'ไมค์', 'ไมคกี้', 'ไมเคิล', 'ไมลส์', 'ยาโคบ', 'ยีน', 'ยูดาส', 'โยชูวา', 'โยเซฟ', 'โยลันดา', 'โยเอล', 'ร็อกแซนน์', 'ร็อด', 'รอน', 'ร็อบ', 'ร็อบบี้', 'รอย', 'รอรี่', 'รอส', 'รัทเทอร์ฟอร์ด', 'รัสเซล', 'ราเชล', 'ราล์ฟ', 'ริกบี้', 'ริโก', 'ริค', 'ริช', 'ริชาร์ด', 'ริต้า', 'รีเบ็คก้า', 'รีส', 'รูธ', 'รูบี้', 'รูเบ็น', 'รูเพิร์ต', 'รูฟัส', 'เร็กซ์', 'เรเชล', 'เรเน่', 'เรย์', 'เรย์มอนด์', 'แรนดอล์ฟ', 'แรนดี้', 'โรเจอร์', 'โรซี่', 'โรนัลด์', 'โรบิน', 'โรเบอร์ต', 'โรเบอร์ต้า', 'โรเบอร์โต้', 'โรแลนด์', 'โรส', 'ไรอัน', 'ลอยด์', 'ลอร่า', 'ลอรี่', 'ลอเรน', 'ลอเร็น', 'ลอเรนซ์', 'ลอว์เรนซ์', 'ลิซ', 'ลิซ่า', 'ลิเดีย', 'ลินด์ซี่ย์', 'ลินดอน', 'ลินดา', 'ลินน์', 'ลิววิส', 'ลี', 'ลีน่า', 'ลีห์', 'ลีออน', 'ลีอา', 'ลีแอนน์', 'ลีแอนนา', 'ลีแอม', 'ลีโอ', 'ลีโอนา', 'ลีโอนี่', 'ลุค', 'ลู', 'ลูกา', 'ลูซี่', 'ลูเธอร์', 'ลูอีซ', 'เลซีย์', 'เลน', 'เลส', 'เลสเตอร์', 'เลสลี่ย์', 'แลนซ์', 'แลร์รี่', 'ไลซ่า', 'ไลนัส', 'วลาดิเมียร์', 'วอร์เรน', 'วอร์วิค', 'วอลโด', 'วอล์ต', 'วอลเตอร์', 'วาเนสซ่า', 'วาร์เรน', 'วาล', 'วาเลรี่', 'วิกตอเรีย', 'วิคกี้', 'วิคเทอร์', 'วิทนีย์', 'วินซ์', 'วินเซ็นต์', 'วินนี่ย์', 'วินสตัน', 'วิลล์', 'วิลลี่', 'วิลเล่ม', 'วิลเลียม', 'วิลสัน', 'วิเวียน', 'วู้ดดี้', 'วูดโรว์', 'วูล์ฟกัง', 'เวนดี้', 'เวย์น', 'เวร่า', 'เวส', 'เวสลีย์', 'เวอร์จิเนีย', 'เวอร์จิล', 'เวอร์นอน', 'เวอโรนิก้า', 'สก็อต', 'สการ์เลตต์', 'สจวร์ต', 'สตีฟ', 'สตีเฟน', 'สเตซี่ย์', 'สเตฟาน', 'สเตฟานี', 'สเตลลา', 'สแตน', 'สแตนลีย์', 'สเปนเซอร์', 'หลุยส์', 'อดัม', 'อนาสตาเซีย', 'อบิเกล', 'อมิเลีย', 'อแมนด้า', 'อลัน', 'อลิซ', 'อลิซ่า', 'อลิเซีย', 'อลิสแตร์', 'อลิสัน', 'อเล็กซ์', 'อเล็กซ่า', 'อเล็กซานเดอร์', 'อเล็กซานเดอร์ม', 'อเล็ค', 'อเล็ดซานดร้า', 'ออกัสต์', 'ออกัสตัส', 'ออกุสต์', 'ออสการ์', 'ออสติน', 'อะเดล', 'อันเดร', 'อันโตน', 'อับดุล', 'อับราม', 'อับราฮัม', 'อัฟ', 'อัล', 'อัลเบิร์ต', 'อัลแบร์โต', 'อัลฟอนซ์', 'อัลฟอนโซ่', 'อัลฟี่', 'อัลเฟรด', 'อัลเฟรโด', 'อัลเลน', 'อัลวิน', 'อาดิเลด', 'อาเดอลีน', 'อาเทอร์', 'อาเธอร์', 'อาเบล', 'อาร์ชี', 'อาร์โนลด์', 'อาลี', 'อาลีย่าห์', 'อาเลกซ์สิซ์', 'อาเลน่า', 'อิงเบิร์ต', 'อิงมาร์', 'อิชมาเอล', 'อิซาเบล', 'อิซาเบลล์', 'อิซาเบลล่า', 'อินกริด', 'อิ่มเกร์ต', 'อิเมลด้า', 'อีธาน', 'อีนิด', 'อีลิน', 'อีเลน', 'อีเลียต', 'อีไล', 'อีไลจาห์', 'อีวอนน์', 'อีว่า', 'เอ็ด', 'เอ็ดการ์', 'เอ็ดดี้', 'เอ็ดนา', 'เอดมันด์', 'เอ็ดวิน', 'เอ็ดวีน่า', 'เอ็ดเวิร์ด', 'เอดิธ', 'เอเดน', 'เอเตรียน', 'เอทิล', 'เอนรีโก', 'เอพริล', 'เอ็มม่า', 'เอมานูเอล', 'เอมิล', 'เอมิลี่', 'เอมี่', 'เอริกะ', 'เอริน', 'เอลตัน', 'เอลล่า', 'เอลลี่ย์', 'เอลเลน', 'เอลวิส', 'เอลิซาเบธ', 'เอเลนอร์', 'เอวา', 'เอวาน', 'เอสเตลล์', 'เอสเธอร์', 'เออร์ซูล่า', 'เออร์นี่', 'เออร์เนสต์', 'เออร์เนสโต', 'เออร์มา', 'เอิร์ล', 'เอียน', 'แอกเซิล', 'แอคเนส', 'แองเจล่า', 'แอชตัน', 'แอชลี่', 'แอชลี่ย์', 'แอเดรียน', 'แอนจี', 'แอนจี่', 'แอนเจลิกา', 'แอนเจลีน่า', 'แอนเจโล่', 'แอนเจิ้ล', 'แอนดรูว์', 'แอนดี้', 'แอนเดรีย', 'แอนเดรีย', 'แอนโตนิโอ', 'แอนโทนี่', 'แอนโธนี่', 'แอนน์', 'แอนน์มารี', 'แอนนา', 'แอนนาเบล', 'แอนนาเบลล์', 'แอนนี่', 'แอนเน็ต', 'แอนาเบลล์', 'แอ็บบี้', 'แอมเบอร์', 'แอรอน', 'แอริค', 'แอลลิสัน', 'แอลลี่', 'โอมาร์', 'โอลิเวอร์', 'โอลิเวีย', 'โอลีฟ', 'โอเว่น', 'ไอแซก', 'ไอแดน', 'ไอร่า', 'ไอริส', 'ไอรีน', 'ไอลีน', 'ไอวาน', 'ไออีชา', 'ฮอลลี่', 'ฮันนา', 'ฮันนาห์', 'ฮัล', 'ฮัลเล', 'ฮาเก็น', 'ฮาร์ลีย์', 'ฮาร์วี่ย์', 'ฮาโรลด์', 'ฮิเดกิ', 'ฮิลลารี', 'ฮิวโก้', 'ฮิวจ์', 'ฮูลิโอ', 'เฮคเตอร์', 'เฮเซล', 'เฮทเธอร์', 'เฮนรี', 'เฮนรี่', 'เฮย์เดน', 'เฮลี่ย์', 'เฮเลน', 'เฮเลน่า', 'เฮอร์เบิร์ต', 'แฮร์ริส', 'แฮร์ริสัน', 'แฮร์รี', 'แฮร์รี่', 'แฮรี่', 'โฮป', 'โฮเมอร์', 'โฮราชิโอ', 'โฮเวิร์ด', 'ไฮดี้', 'ไฮนซ'], 'acronym': ['ปกน.', 'กชภ.', 'พจ.', 'พท', 'พล.ท.', 'ผฮ.', 'ปค.', 'พย', 'ภกญ.', '2 ปต.', 'ขก', 'นตท.', 'สรย.', 'ร.ง.', 'สจ.', 'นพค.', 'อบ', 'กผม.', 'ทก.ด.', 'พบ', 'บบส.', 'วปอ.', 'ฉผกป.', 'กศน.', 'ศนท.', 'พย.ด.', 'ผ.', 'ล.ญ.', 'สนค.', 'สวรส.', 'จีบา', 'รบ', 'ส.ว.', 'นปก.', 'พยช.', 'ป.กศ.', 'สปต.', 'สนป.', 'กกง.', 'วษท.', 'ฟม.', 'กสต.', 'พ.บ.', 'นิ.', 'ร.อ.', 'กปภ.', 'ภญ.', 'อต', 'ขข.', 'รจจ.', 'บกข.', 'นม', 'ปณฝ.', 'พคจ.', 'รฟม.', 'ศอฉ.', 'สปศ.', 'ท.ด.', 'พลตรี', 'จจ.', 'ปอ.พ.', 'กว.', 'สผ.', 'ฮก.', 'ชสท.', 'ส.ร.', 'มท.', 'ทส', 'ยธ.', 'ฉผส.', 'บก.ป.', 'ผนก.', 'ผยย.', 'สนม.', 'วท.', 'ต.ช.', 'ผป.', 'พ.ค.', 'คต.', 'บธ.ม.', 'ปธ.', 'ม.ค.', 'ฉสนอ.', 'น.ส.', 'ส.ค.1', 'ผกค.', 'สกจ.', 'จสต.', 'ฐชค.', 'คงช.', 'ต.จ.', 'รร.', 'สว.', 'สัน.', 'บช.บ.', 'คทร.', 'สทท.', '1 ปต.', 'ยด.', 'รปภ.', 'ทก', 'ต.ร.', 'ท.', 'สยย.', 'นนอ.', 'ปวท.', 'สจร.', 'น.ญ.', 'คปสบ.', '2 คร.', 'พลโท', 'ลพ', 'สธ', 'กห', 'ป.พ.', 'ศจ.', 'ก.บช.', 'กองพล', '2 ธส.', 'ฉผข.', 'ฉผนป.', 'ท.ญ.', 'น.บ.', 'รย', 'ป.พย.', 'ศก', 'จทบ.', 'สปก.', 'จบ.', 'ปณย.', 'นศ.บ.', '1 ทธ.', 'คอท.', 'ผบก.', 'กท.', 'กปน.', 'สยช.', 'บจก.', 'ผสด.', 'ปทส.', 'ปวส.', 'น.น.', 'ป.อ.', 'นว.', 'ร้อย.', 'ผนผ.', 'อ.บ.', 'กปปค.', 'สอ.', 'ทอท.', 'ร.พ.ช.', 'ยส', 'ก.ตง.', 'ฉผกท.', 'รป.บ.', 'น.ส.๓', 'ฉผล.', 'มพด.', 'กษ.ม.', 'นศ', 'ศฝช.', 'กกค.', 'รม.', 'ฉสล.', 'ศย', 'ร.ล.', 'สพ.ญ.', 'สสอ.', 'เสธ.', 'ผคน.', 'ส.อ.', 'สดก.', 'น.ม.', 'ฮม.', 'กปอท.', 'ฉผด.', 'สปอ.', 'ผบ.สูงสุด', 'ถนน', 'ผข.', 'ฉสวล.', 'กรพ.', 'ด.ช.', 'รจล.', 'พป.', 'พง', 'พกส.', 'ลย', 'สขว.', 'ป.ช.', 'สคส.', 'กษ.บ.', 'สนถ.', 'สสว.', 'ขคท.', 'จร.', 'จ.๑๘', 'พศ.บ.', 'รอ', 'บช.ก.', 'ดคล.', 'ผก.', 'พณ.บ.', 'จค.', 'ผอ.', 'พ.ช.', 'ฉช', 'ผนข.', 'เม.ย.', 'จท.', 'มทส.', 'ผม.', 'พย.บ.', 'พช', 'พล.', 'ก.ตร.', 'ศส.บ.', 'นพ', 'หจก.', 'ท.พ.', 'ภ.ด.', 'ปกบ.', 'พบ.ม.', 'ฉผช.', 'ค.บ.', 'อส.', 'ร.ท.', 'ฐบ.', 'วค.', '1 คร.', 'กอรมน.', 'สอท.', 'ฉผซม.', 'ปภ.', 'ปณช.', 'ภก', 'อท', 'ผดก.', 'ปอ.', 'พคท.', 'สคน.', 'กปจว.', 'คจตถ.', 'ศบอ.', 'พขต.', 'ฉสทป.', 'บงล.', 'จ', 'คปอส.', 'กคอ.', 'สคบ.', 'ส.ทร.', 'ฉผปภ.', 'ปจ.', 'จก.', 'บกนท.', 'ยธ', 'คปต.', 'สซ.', 'กกจ.', 'ผบ.ทร.', 'พจ', 'กทพ.', 'กศ.ด.', 'จอ.', 'ทกท.', 'นปช.', 'บ.ช.', 'มอก.', 'กษ', 'ถ.', 'รจร.', 'พฤ.', 'บ.', 'ดคก.', 'สนร.', 'นศพ.', 'สพช.', 'ชย', 'นรต.', 'สฟ.', 'บ.ตร.', 'กนข.', 'สปรส.', 'ฉสษ.', 'ม.ศ.', 'พณ.ม.', 'ปืนกล', 'มมส.', 'พจน.', 'ร.ต.', 'ฉผวล.', 'ผกก.', 'ฉผมก.', '2 ทธ.', 'ส.ค.', 'ต.ม.', 'ต.บ.', 'พ.กศ.', 'ฉสขม.', 'กส', 'บ.ด.ท.', 'ตร', 'น.ช.', 'นบ', 'ป.บส.', 'จคม.', 'กฟน.', 'ผมป.', 'พงศ.', 'กคส.', 'บพย.', 'ผนท.', 'พล.ม.', 'ชร', 'ฉผนค.', 'รฟท.', 'นภ', 'พงส.', 'สนต.', 'ปดส.', 'สพ.', 'ค.ด.', 'ผญบ.', 'ปจว.', 'ฉสศ.', 'ฮ.ฝ.', 'บพร.', 'พสวท.', 'สก', 'กบว.', 'รป.ม.', 'สนง.', 'ปทค.', 'รธน.', 'อสร.', 'ดร.', 'ผฟ.', 'สบ', 'กอน.', 'บร.', 'สพ.บ.', 'มล.', 'มห', 'ส.ห.', 'สน', 'ปตท.', 'สวคท.', 'คศ.บ.', 'ก.ม.', 'นย.', 'ด.ต.', 'รง', 'อย.', 'ฉสวช.', 'ปป.', 'สสด.', 'ฉผค.', 'กทอ.', 'ผบ.ทอ.', 'หสน.', 'สฎ', 'สทก.', 'อ.ตร.', 'จข.', 'สปจ.', 'กศ.บ.', 'สวช.', 'อพป.', 'สวป.', 'ผนม.', 'ตำรวจ)', 'บขต.', 'อก.', 'นดร.', 'มท1', 'ฉผทป.', 'รภ.', 'น.พ.', 'ผค.', 'ตร.ส.', 'จ.ท.', 'คจก.', 'พล.อ.', 'สต', 'ส.ต.', 'ฉผกส.', 'พ.ศ.', 'ผฝผ.', 'ร.ส.พ.', 'กนอ.', 'สส.บ.', 'มยช.', 'ลบ.', 'บมจ.', 'สท', 'ก.บถ.', 'อย', 'พญ.', 'ฉสน.', 'อ.', 'นิราศ', 'รศ.', 'ฉผมพ.', 'ชม.', 'กคน.', 'น.สพ.', 'ศฝก.', 'ศอพป.', 'นธ', 'ทส.', 'ปปป.', 'บย.', 'กน.', 'ปทจ.', 'สมก.', 'ธร.', 'บช.น.', 'สนก.', 'กยศ.', 'ฉผป.', 'คคบ.', 'กซม.', 'ฉผยย.', 'นน', 'กซข.', 'ผมก.', 'จป.', 'ททท.', 'ปตอ.', 'นฐ', 'คศ.ด.', 'ร.บ.', 'ทพ.', 'อด', 'นรจ.', 'ฉผนต.', 'วชช.', 'ตรอ.', 'ผรย.', 'นพ.', 'ผศ.', '1 ธส.', 'คอส.', 'ขรก.', 'งป.', 'ต.ห.', 'กปส.', 'ขบด.', 'บทด.', 'นิด้า', 'โทร.', 'น.ว.', 'พลเอก', 'ฟป.', 'วท.บ.', 'สมส.', 'ผมส.', 'ฉสบ.', 'ธอส.', 'สข.', 'กบค.', 'จ.ช.', 'ช.ส.', 'กชก.', 'ฉสผ.', 'คปภ.', 'บทต.', 'กวช.', 'บนท.', 'บร', 'ผจก.', 'ทล.', 'พรร.', 'อสค.', 'ฮ.จ.', 'สตม.', 'บตญ.', 'ซม.', 'บช.ด.', 'อพวช.', 'กฝ.', 'สสส.', 'นรป.', 'ก.อ.', 'สส', 'ตม.', 'อจญ.', 'สนญ.', 'ท.จ.', 'สกญ.', 'ปวช.', 'พบ.ด.', 'ร.น.', 'กส.ด.', 'กฟภ.', 'อชก.', 'ส.ภ.อ.', 'ขทร.', 'ก.ย.', 'ทพญ.', 'บธ.ด.', 'กกก.', 'ศธ', 'ง.', 'ส.ก.', 'ฉผมป.', 'ผนป.', 'ชน', 'กค', 'สิบโท', 'ฉผนท.', 'ขกท.', 'พธ.ม.', 'ตช.', '2 ยน.', 'บลจ.', 'ฝอ.', 'ฉผบ.', 'นปพ.', 'น.ศ.', 'บ.ภ.', 'ปตถ.', 'กท', 'บีโอไอ', 'ค.ศ.', 'ศปภ.', 'นค', 'ผสจ.', 'กจ', 'ฉผนผ.', 'มิ.ย.', 'อตก.', 'กสช.', 'สมช.', 'ศ.บ.', 'พศ.ด.', 'ตผ.', 'ป.จ.', 'ปกม.', 'ฐยส.', 'อบต.', 'กกช.', 'กนช.', 'กบว', 'จ.จ.', 'บศอ.', 'สตง.', 'ธันญา', 'ก.จ.', 'กชช.', 'สปป.', 'รมต.', 'ขจก.', 'ผส.', 'ดคม.', 'รมน.', 'สต.', 'ผปต.', 'ปณก.', 'ธ.ค.', 'ธันว.', 'ฮ.ศ.', 'กสท.', 'กต', 'ฉผก.', 'พศ.ม.', 'สพ', 'รจอ.', 'ทก.บ.', 'ท.ศ.', 'ปทช.', 'ม.จ.', 'สนนท.', 'ป.ธ.', 'ปน', 'ฮ.ท.', 'ม.อ.', 'ภก.', 'ทนพ.', 'ยล', 'รสก.', 'กกร.', 'นธ.', 'พม', 'จ.ต.', 'ยน.', 'ฉผผส.', 'กสส.', 'วว', 'ปว.', 'ออท.', 'ปณค.', 'จย.', 'ปณศ.', 'ภ.ม.', 'มม.', 'ศสพ.', 'ฉผนก.', 'ฉผนข.', 'ฉผวช.', 'วช.', 'ก.ฌ.', 'สห', 'ฉผว.', 'ซก.', 'กกน.', 'จว.', 'ฉสกป.', 'ทนพญ.', 'ดม.', 'ทศท.', 'ลบ', 'ตจว.', 'ดก.', 'ชบ', 'ตร.ต.', 'ผจ.', 'นศท.', 'ฉสต.', 'ฉผท.', 'กพด.', 'สข', 'กอท.', 'ชสพ.', 'ผทท.', 'มส', 'น.ด.', 'ตร.ว.', 'แผนก', 'ครม.', 'มว.', 'ส.ส.', 'บชท.', 'สม.', 'ชพ', 'ท.ช.', 'ผนค.', 'ธกท.', 'ซล.', 'ปล.', 'สส.', 'ปอมท.', 'ฉผอ.', 'ปชช.', 'ปชป.', 'สค', 'กก', 'สน.', 'ตร.ภ.', 'พล.ต.', 'ค.ม.', 'กศ.ม.', 'ต.ค.', 'บธ.บ.', 'ฉสกท.', 'ฉสว.', 'ปชท.', 'กส.บ.', 'จ่าโท', 'จนท.', 'มทร.', 'คสช.', 'ก.ร.', 'นปข.', 'กสญ.', 'ปธน.', 'ฉผษ.', 'กบต.', 'วทพ', 'สป', 'ด.ญ.', 'ฉสปภ.', 'ฉผมส.', 'รมว.', 'จ.อ.', 'สร', 'คอทส.', 'กกศ.', 'บปจ.', 'กทท.', 'ฌกส.', 'ฉผนร.', 'นรว.', 'อสกท.', 'พม.', 'ฉผซ.', 'สนผ.', 'ตง', 'ภ.พ.', 'กงม.', 'มพบ.', 'พ.ญ.', 'วท', 'ฮล.', 'กพ', 'สวญ.', 'จบ', 'ท.ส.', 'ปณอ.', 'ลก.', 'สกศ.', 'ผมพ.', 'คจร.', 'ต.ต.', 'วธ', 'ฉสร.', 'ฉสขค.', 'กรส.', '3 ยน.', 'ว.ช.', 'สวพ.', 'ขสมก.', 'ตร.', 'ชม', 'คมภ.', 'ผทร.', 'พล.จ.', 'หมวด', 'พย.ม.', 'ฉผขม.', 'บขส.', 'คศ.ม.', 'ผนต.', 'กปช.', 'ก.ก.', 'ป.ป.', 'พ.ด.', 'อจ', 'อ.ส.ท.', 'รปจ.', 'ฉผอร.', 'ฉผทร.', 'ธ.ญ', 'สน.ภ.', 'พปส.', 'กพม.', 'คมส.', 'พธ.บ.', 'รพ.', 'ยบ.', 'อจ.', 'ธปท.', 'รสช.', 'ทต.', 'จต.', 'ภ.บ.', 'กปจ.', 'ห.จ.ก.', 'ผวจ.', '1 ยน.', 'บชส.', 'ลป', 'กกท.', 'บก.น.', 'ธกส.', 'ฉผม.', 'ปปส.', 'สมป.', 'นร.', 'สวล.', 'ส.ท.', 'นจอ.', 'พ.ป.', 'ฉผสด.', 'รจต.', 'พคก.', 'พท.', 'ฉผดก.', 'ศชช.', 'สว.ส.', 'อสม.', 'ป.ล.', 'ศฝร.', 'พล', 'ผงป.', 'ฉผคน.', 'ทก.ม.', 'ผซม.', 'สนช.', 'ทม.', 'ผบก.ป.', 'ก.ต.', 'จฬ.', 'ทภ.', 'นทพ.', 'ร.ศ.', 'ฉสอร.', 'ปข', 'สปช.', 'สสวท.', 'บสข.', 'ผนร.', 'กคช.', 'นย', 'อก', 'ขด.', 'ตชด.', 'ฉผนอ.', 'ผซ.', 'สป.', 'อตร.', 'อบจ.', 'อน', 'สกว.', 'คค', 'นศ.ด.', 'ปลย.', 'มร.', 'พย.', 'ญิ.', 'บก.ส.', 'บทค.', 'ฉผปต.', 'ธสอ.', 'บ/ช', 'สมพ.', 'ศฝท.', 'จภ.', 'สท.', 'ต.ช.ด.', 'มี.ค.', 'พขร.', 'ตก', 'พณ.ด.', 'อต.', 'ผด.', 'ศศ.บ.', 'ผบ.ทบ.', 'นร', 'สภ.', 'อ.ส.ม.ท.', 'ฉสผส.', 'นนส.', 'จขกท.', 'ฉผต.', 'กส.ม.', 'ปส.', 'ผถห.', 'ปก.', 'สมอ.', 'จ.ศ.', 'บพห.', 'ท.บ.', 'บก', 'ป.กท.', 'สกท.', 'ศอ.', 'จปฐ.', 'กษ.ด.', 'นคป.', 'วศ.บ.', 'ฉขว.', 'ธ.', 'พบ.บ.', 'ช.ค.', 'พบ.', 'พร', 'กฮ.', 'ร.พ.', 'ศปช.', 'กบ', 'นรม.', 'บช.ภ.', 'บช.ม.', 'ผนถ.', 'กปร.', 'ผบช.', 'มค', 'ปท', 'ฉผนม.', 'นว', 'สก.', 'กร.', 'สวทช.', 'ง.ด.', 'กนอ', 'คพป.', 'ฉผรย.', 'ตร.น.', 'บสส.', 'ร.ด.', 'กบข.', 'มท', 'สขร.', 'ฉผฟ.', 'นชท.', 'คตง.', 'อฟ.', 'ปณจ.', 'ต.ก.', 'สกส.', 'กฟผ.', 'สค.', 'อพช.', 'ปณส.', 'ก.ศ.', 'สวท.', 'สถ.บ.', 'ฮ.ล.', 'ดล.', 'นอภ.', 'รมช.', 'มธก.', 'ยผ.', 'รพช.', 'ล.ว.', 'สวส.', 'พธ.ด.', 'บขถ.', 'พ.ย.', 'ผชก.', 'สศช.', 'ปจ', 'ผกส.', 'วอศ.', 'อปพร.', 'รน', 'นศ.ม.', 'ต.อ.', 'หน.', 'บ.ม.', 'สฮ.', 'ธ.บ.', 'จยย.', 'ตญ.', 'ฯพณฯ', 'พณ', 'ศษ.บ.']}\""
            ]
          },
          "metadata": {
            "tags": []
          },
          "execution_count": 65
        }
      ]
    },
    {
      "cell_type": "code",
      "metadata": {
        "id": "KZnZYYJPZjDK",
        "colab_type": "code",
        "colab": {}
      },
      "source": [
        "#START END POS\n",
        "def pos_features(i, tokens):\n",
        "  pos_f={}\n",
        "  if i >0:\n",
        "    pos_f.update({'t-1 pos': tokens[i-1][1]})\n",
        "  elif i==0:\n",
        "    pos_f.update({'t-1 pos': 'START'})\n",
        "  pos_f.update({'t0 pos': tokens[i][1]})\n",
        "  if i < len(tokens)-1:\n",
        "    pos_f.update({'t+1 pos': tokens[i+1][1]})\n",
        "  elif i == len(tokens)-1:\n",
        "    pos_f.update({'t+1 pos': 'END'})\n",
        "  return pos_f\n",
        "    \n",
        "def pos_conjunctive_features(i, tokens):\n",
        "  if i < len(tokens)-1:\n",
        "    if i >0:\n",
        "      return {'pos_c':[ tokens[i-1][1], tokens[i][1], tokens[i+1][1]]}\n",
        "    else: \n",
        "      return {'pos_c':['START',tokens[i][1], tokens[i+1][1]]}\n",
        "  else:\n",
        "    return {'pos_c':[ tokens[i-1][1], tokens[i][1],'END']}\n",
        "    \n",
        "def word_features(i, tokens):\n",
        "  w_f={}\n",
        "  if i >0:\n",
        "    w_f.update({'t-1 w': tokens[i-1][0]})\n",
        "  elif i ==0:\n",
        "    w_f.update({'t-1 w':'START' })\n",
        "  w_f.update({'t0 w': tokens[i][0]})\n",
        "  if i < len(tokens)-1:\n",
        "    w_f.update({'t+1 w': tokens[i+1][0]})\n",
        "  elif i == len(tokens)-1:\n",
        "    w_f.update({'t+1 w': 'END'})\n",
        "  return w_f"
      ],
      "execution_count": null,
      "outputs": []
    },
    {
      "cell_type": "markdown",
      "metadata": {
        "id": "2eQ8hwp5Tuq_",
        "colab_type": "text"
      },
      "source": [
        "EVALUATION"
      ]
    },
    {
      "cell_type": "code",
      "metadata": {
        "id": "qeW--oT-USar",
        "colab_type": "code",
        "colab": {}
      },
      "source": [
        "def featurize_one_sentence(tokens, feature_function_list):\n",
        "    feature_dict_seq = []\n",
        "    for i in range(len(tokens)): # ทุก token\n",
        "        feature_dict = {}\n",
        "        for feature_fn in feature_function_list: # ทุก feature function\n",
        "            feature_dict.update(feature_fn(i, tokens))\n",
        "        feature_dict_seq.append(feature_dict)\n",
        "    return feature_dict_seq\n",
        "    \n",
        "def train_model(X_train, Y_train, X_test, Y_test, feature_function_list):\n",
        "  Xtrain_data = [featurize_one_sentence(token_list, feature_function_list) for token_list in X_train]\n",
        "  Xtest_data = [featurize_one_sentence(token_list, feature_function_list) for token_list in X_test]\n",
        "  crf = sklearn_crfsuite.CRF()\n",
        "  crf.fit(Xtrain_data, Y_train)\n",
        "  pred = crf.predict(Xtest_data)\n",
        "  return [pred,Xtrain_data,Xtest_data]"
      ],
      "execution_count": null,
      "outputs": []
    },
    {
      "cell_type": "code",
      "metadata": {
        "id": "5xDz6WyGb8GN",
        "colab_type": "code",
        "colab": {}
      },
      "source": [
        "pred,aa,bb=train_model(X_train=xtrain,Y_train=ner_train, X_test=xdev, Y_test=ner_dev, feature_function_list=[pos_features,pos_conjunctive_features,word_features,inclu,in_dict])"
      ],
      "execution_count": null,
      "outputs": []
    },
    {
      "cell_type": "code",
      "metadata": {
        "id": "7DeQvQL0YadA",
        "colab_type": "code",
        "colab": {}
      },
      "source": [
        "#For dev\n",
        "fn=[]\n",
        "for n in range(150,160):\n",
        "  fn.append('corpus0'+str(n)+'-utf8.txt')\n",
        "ans={}\n",
        "for n in range(len(fn)):\n",
        "  org=[]\n",
        "  place=[]\n",
        "  pers=[]\n",
        "  for tn in range(len(pred[n])):\n",
        "    if pred[n][tn] =='org':\n",
        "      org.append(xdev[n][tn][0])\n",
        "    elif pred[n][tn] == 'place':\n",
        "      place.append(xdev[n][tn][0])\n",
        "    elif pred[n][tn] == 'pers':\n",
        "      pers.append(xdev[n][tn][0])\n",
        "  ans[fn[n]]={}\n",
        "  ans[fn[n]]['org']=list(set(org))\n",
        "  ans[fn[n]]['place']=list(set(place))\n",
        "  ans[fn[n]]['pers']=list(set(pers))\n",
        "\n",
        "  \n",
        "with open('my_answer.json','w')as gg:\n",
        "  json.dump(ans,gg)"
      ],
      "execution_count": null,
      "outputs": []
    },
    {
      "cell_type": "code",
      "metadata": {
        "id": "YjfkX25eVtTp",
        "colab_type": "code",
        "colab": {}
      },
      "source": [
        "#For test\n",
        "fn=[]\n",
        "for n in range(160,190):\n",
        "  fn.append('corpus0'+str(n)+'-utf8.txt')\n",
        "ans={}\n",
        "for n in range(len(fn)):\n",
        "  org=[]\n",
        "  place=[]\n",
        "  pers=[]\n",
        "  for tn in range(len(pred[n])):\n",
        "    if pred[n][tn] =='org':\n",
        "      org.append(xtest[n][tn])\n",
        "    elif pred[n][tn] == 'place':\n",
        "      place.append(xtest[n][tn])\n",
        "    elif pred[n][tn] == 'pers':\n",
        "      pers.append(xtest[n][tn])\n",
        "  ans[fn[n]]={}\n",
        "  ans[fn[n]]['org']=list(set(org))\n",
        "  ans[fn[n]]['place']=list(set(place))\n",
        "  ans[fn[n]]['pers']=list(set(pers))\n",
        "\n",
        "  \n",
        "with open('my_answer.json','w')as gg:\n",
        "  json.dump(ans,gg)"
      ],
      "execution_count": null,
      "outputs": []
    },
    {
      "cell_type": "code",
      "metadata": {
        "id": "KvrYHrG4dYl4",
        "colab_type": "code",
        "colab": {
          "base_uri": "https://localhost:8080/",
          "height": 985
        },
        "outputId": "a016f9e4-94f3-453c-bd9a-b49b3971378f"
      },
      "source": [
        "ans"
      ],
      "execution_count": null,
      "outputs": [
        {
          "output_type": "execute_result",
          "data": {
            "text/plain": [
              "{'corpus0150-utf8.txt': {'org': ['โกล์ด ฟิวเจอร์ส',\n",
              "   'ทองคำ',\n",
              "   'ตลท.',\n",
              "   'บริษัท ตลาดอนุพันธ์ (ประเทศไทย'],\n",
              "  'pers': ['นางเกศรา มัญชุศรี'],\n",
              "  'place': []},\n",
              " 'corpus0151-utf8.txt': {'org': ['มหาวิทยาลัยหอการค้าไทย',\n",
              "   'คลัง',\n",
              "   'เอสเอ็มอีแบงก์'],\n",
              "  'pers': ['นายธนวรรธน์ พลวิชัย',\n",
              "   'นายอภิสิทธิ์ เวชชาชีวะ',\n",
              "   'นายกอร์ปศักดิ์ สภาวสุ',\n",
              "   'นายกรณ์',\n",
              "   'นางเสาวณีย์ ไทยรุ่งโรจน์',\n",
              "   'นายกรณ์ จาติกวณิช'],\n",
              "  'place': ['ไทย']},\n",
              " 'corpus0152-utf8.txt': {'org': ['คลัง', 'สศค.'],\n",
              "  'pers': ['นายสมชัย สัจจพงษ์', 'นายกรณ์ จาติกวณิช', 'นายสมชัย'],\n",
              "  'place': ['ไทย']},\n",
              " 'corpus0153-utf8.txt': {'org': ['บริษัททรูมูฟ จำกัด'],\n",
              "  'pers': ['นายศุภชัย เจียรวนนท์'],\n",
              "  'place': ['ไทย']},\n",
              " 'corpus0154-utf8.txt': {'org': ['คลัง',\n",
              "   'กรอ.',\n",
              "   'สศค.',\n",
              "   'สศช.',\n",
              "   'ธนาคารแห่งประเทศไทย',\n",
              "   'กระทรวงการคลัง'],\n",
              "  'pers': ['นายอภิสิทธิ์ เวชชาชีวะ',\n",
              "   'นายกรณ์ จาติกวณิช',\n",
              "   'สำนักเลขาธิการนายก'],\n",
              "  'place': ['ไทย']},\n",
              " 'corpus0155-utf8.txt': {'org': [],\n",
              "  'pers': ['นายสืบศักดิ์ นวจินดา', 'นายสุนทร อรุณานนท์ชัย'],\n",
              "  'place': []},\n",
              " 'corpus0156-utf8.txt': {'org': ['พม.',\n",
              "   'กระทรวงการพัฒนาสังคมและความมั่นคงของมนุษย์'],\n",
              "  'pers': ['นายวัลลภ พลอยทับทิม'],\n",
              "  'place': []},\n",
              " 'corpus0157-utf8.txt': {'org': ['ทีทีอาร์',\n",
              "   'อังค์ถัด',\n",
              "   'นอมินี',\n",
              "   'การพัฒนาแห่งสหประชาชาติ',\n",
              "   'กระทรวงการคลัง'],\n",
              "  'pers': ['นายอภิสิทธิ์ เวชชาชีวะ', 'นายเกียรติ สิทธีอมร'],\n",
              "  'place': ['ไทย']},\n",
              " 'corpus0158-utf8.txt': {'org': ['สกอ.',\n",
              "   'สำนักงานคณะกรรมการการอุดมศึกษา',\n",
              "   'คณะกรรมการการอุดมศึกษา',\n",
              "   'กกอ.',\n",
              "   'กยศ.'],\n",
              "  'pers': [],\n",
              "  'place': []},\n",
              " 'corpus0159-utf8.txt': {'org': ['เคมี', 'มหาวิทยาลัยเกษตรศาสตร์'],\n",
              "  'pers': ['รศ.วุฒิชัย กปิลกาญจน์'],\n",
              "  'place': []}}"
            ]
          },
          "metadata": {
            "tags": []
          },
          "execution_count": 101
        }
      ]
    },
    {
      "cell_type": "code",
      "metadata": {
        "id": "ztsHqES9d__Q",
        "colab_type": "code",
        "colab": {
          "base_uri": "https://localhost:8080/",
          "height": 35
        },
        "outputId": "39162a25-e96f-4fdd-f281-77401a052554"
      },
      "source": [
        "sklearn_crfsuite.metrics.flat_accuracy_score(ner_dev, pred)"
      ],
      "execution_count": null,
      "outputs": [
        {
          "output_type": "execute_result",
          "data": {
            "text/plain": [
              "0.9838616714697407"
            ]
          },
          "metadata": {
            "tags": []
          },
          "execution_count": 97
        }
      ]
    },
    {
      "cell_type": "code",
      "metadata": {
        "id": "k50PAwsBV9J4",
        "colab_type": "code",
        "colab": {
          "base_uri": "https://localhost:8080/",
          "height": 121
        },
        "outputId": "18ffa71e-b8d7-49ac-a888-572bc922a972"
      },
      "source": [
        "!python3 contest3-master/evaluate2.py thai_ner_dev_set_answers.json my_answer.json"
      ],
      "execution_count": null,
      "outputs": [
        {
          "output_type": "stream",
          "text": [
            "       PRECISION  RECALL     F1 SUPPORT\n",
            "place     1.0000  0.2941 0.4545      17\n",
            "org       0.7000  0.3559 0.4719      59\n",
            "pers      0.9500  0.7600 0.8444      25\n",
            "MACRO     0.8833  0.4700 0.5903     101\n",
            "MICRO     0.8182  0.4455 0.5769     101\n"
          ],
          "name": "stdout"
        }
      ]
    },
    {
      "cell_type": "code",
      "metadata": {
        "id": "tY9jlHmvsCob",
        "colab_type": "code",
        "colab": {
          "base_uri": "https://localhost:8080/",
          "height": 121
        },
        "outputId": "ab11f9e4-697f-41b0-9b8b-784249f1b459"
      },
      "source": [
        "pred,aa,bb=train_model(X_train=xtrain,Y_train=ner_train, X_test=xdev, Y_test=ner_dev, feature_function_list=[pos_features,pos_conjunctive_features])\n",
        "#For dev\n",
        "fn=[]\n",
        "for n in range(150,160):\n",
        "  fn.append('corpus0'+str(n)+'-utf8.txt')\n",
        "ans={}\n",
        "for n in range(len(fn)):\n",
        "  org=[]\n",
        "  place=[]\n",
        "  pers=[]\n",
        "  for tn in range(len(pred[n])):\n",
        "    if pred[n][tn] =='org':\n",
        "      org.append(xdev[n][tn][0])\n",
        "    elif pred[n][tn] == 'place':\n",
        "      place.append(xdev[n][tn][0])\n",
        "    elif pred[n][tn] == 'pers':\n",
        "      pers.append(xdev[n][tn][0])\n",
        "  ans[fn[n]]={}\n",
        "  ans[fn[n]]['org']=list(set(org))\n",
        "  ans[fn[n]]['place']=list(set(place))\n",
        "  ans[fn[n]]['pers']=list(set(pers))\n",
        "\n",
        "  \n",
        "with open('my_answer.json','w')as gg:\n",
        "  json.dump(ans,gg)\n",
        "\n",
        "!python3 contest3-master/evaluate2.py thai_ner_dev_set_answers.json my_answer.json"
      ],
      "execution_count": null,
      "outputs": [
        {
          "output_type": "stream",
          "text": [
            "       PRECISION  RECALL     F1 SUPPORT\n",
            "place     0.7500  0.1765 0.2857      17\n",
            "org       0.6667  0.0339 0.0645      59\n",
            "pers      1.0000  0.0400 0.0769      25\n",
            "MACRO     0.8056  0.0835 0.1424     101\n",
            "MICRO     0.7500  0.0594 0.1101     101\n"
          ],
          "name": "stdout"
        }
      ]
    },
    {
      "cell_type": "code",
      "metadata": {
        "id": "1RQbGXnnsZhl",
        "colab_type": "code",
        "colab": {
          "base_uri": "https://localhost:8080/",
          "height": 121
        },
        "outputId": "704ea2b5-71e5-42f0-cbf4-f58b8ab9bb5c"
      },
      "source": [
        "pred,aa,bb=train_model(X_train=xtrain,Y_train=ner_train, X_test=xdev, Y_test=ner_dev, feature_function_list=\n",
        "                       [pos_features,pos_conjunctive_features,inclu])\n",
        "#For dev\n",
        "fn=[]\n",
        "for n in range(150,160):\n",
        "  fn.append('corpus0'+str(n)+'-utf8.txt')\n",
        "ans={}\n",
        "for n in range(len(fn)):\n",
        "  org=[]\n",
        "  place=[]\n",
        "  pers=[]\n",
        "  for tn in range(len(pred[n])):\n",
        "    if pred[n][tn] =='org':\n",
        "      org.append(xdev[n][tn][0])\n",
        "    elif pred[n][tn] == 'place':\n",
        "      place.append(xdev[n][tn][0])\n",
        "    elif pred[n][tn] == 'pers':\n",
        "      pers.append(xdev[n][tn][0])\n",
        "  ans[fn[n]]={}\n",
        "  ans[fn[n]]['org']=list(set(org))\n",
        "  ans[fn[n]]['place']=list(set(place))\n",
        "  ans[fn[n]]['pers']=list(set(pers))\n",
        "\n",
        "  \n",
        "with open('my_answer.json','w')as gg:\n",
        "  json.dump(ans,gg)\n",
        "\n",
        "!python3 contest3-master/evaluate2.py thai_ner_dev_set_answers.json my_answer.json"
      ],
      "execution_count": null,
      "outputs": [
        {
          "output_type": "stream",
          "text": [
            "       PRECISION  RECALL     F1 SUPPORT\n",
            "place     0.7500  0.3529 0.4800      17\n",
            "org       0.6667  0.0339 0.0645      59\n",
            "pers      0.7333  0.4400 0.5500      25\n",
            "MACRO     0.7167  0.2756 0.3648     101\n",
            "MICRO     0.7308  0.1881 0.2992     101\n"
          ],
          "name": "stdout"
        }
      ]
    },
    {
      "cell_type": "code",
      "metadata": {
        "id": "ZcNVRXPYs4Z_",
        "colab_type": "code",
        "colab": {
          "base_uri": "https://localhost:8080/",
          "height": 121
        },
        "outputId": "33edf4ef-b514-4902-fabd-efabc350ea69"
      },
      "source": [
        "pred,aa,bb=train_model(X_train=xtrain,Y_train=ner_train, X_test=xdev, Y_test=ner_dev, feature_function_list=\n",
        "                       [pos_features,pos_conjunctive_features,word_features,inclu,in_dict])\n",
        "#For dev\n",
        "fn=[]\n",
        "for n in range(150,160):\n",
        "  fn.append('corpus0'+str(n)+'-utf8.txt')\n",
        "ans={}\n",
        "for n in range(len(fn)):\n",
        "  org=[]\n",
        "  place=[]\n",
        "  pers=[]\n",
        "  for tn in range(len(pred[n])):\n",
        "    if pred[n][tn] =='org':\n",
        "      org.append(xdev[n][tn][0])\n",
        "    elif pred[n][tn] == 'place':\n",
        "      place.append(xdev[n][tn][0])\n",
        "    elif pred[n][tn] == 'pers':\n",
        "      pers.append(xdev[n][tn][0])\n",
        "  ans[fn[n]]={}\n",
        "  ans[fn[n]]['org']=list(set(org))\n",
        "  ans[fn[n]]['place']=list(set(place))\n",
        "  ans[fn[n]]['pers']=list(set(pers))\n",
        "\n",
        "  \n",
        "with open('my_answer.json','w')as gg:\n",
        "  json.dump(ans,gg)\n",
        "\n",
        "!python3 contest3-master/evaluate2.py thai_ner_dev_set_answers.json my_answer.json\n"
      ],
      "execution_count": null,
      "outputs": [
        {
          "output_type": "stream",
          "text": [
            "       PRECISION  RECALL     F1 SUPPORT\n",
            "place     1.0000  0.2941 0.4545      17\n",
            "org       0.7000  0.3559 0.4719      59\n",
            "pers      0.9500  0.7600 0.8444      25\n",
            "MACRO     0.8833  0.4700 0.5903     101\n",
            "MICRO     0.8182  0.4455 0.5769     101\n"
          ],
          "name": "stdout"
        }
      ]
    },
    {
      "cell_type": "code",
      "metadata": {
        "id": "cb7jJfT000bg",
        "colab_type": "code",
        "colab": {
          "base_uri": "https://localhost:8080/",
          "height": 35
        },
        "outputId": "8df4bcac-3f81-4fe5-8c27-984fcef6f4d7"
      },
      "source": [
        "len(xtrain)"
      ],
      "execution_count": null,
      "outputs": [
        {
          "output_type": "execute_result",
          "data": {
            "text/plain": [
              "149"
            ]
          },
          "metadata": {
            "tags": []
          },
          "execution_count": 154
        }
      ]
    },
    {
      "cell_type": "code",
      "metadata": {
        "id": "FW45uaw71QQM",
        "colab_type": "code",
        "colab": {
          "base_uri": "https://localhost:8080/",
          "height": 35
        },
        "outputId": "18819c24-23ff-4d75-c5bf-f79bb4e5fffd"
      },
      "source": [
        "len(pred)"
      ],
      "execution_count": null,
      "outputs": [
        {
          "output_type": "execute_result",
          "data": {
            "text/plain": [
              "30"
            ]
          },
          "metadata": {
            "tags": []
          },
          "execution_count": 135
        }
      ]
    },
    {
      "cell_type": "code",
      "metadata": {
        "id": "xN8hDUX21BWr",
        "colab_type": "code",
        "colab": {
          "base_uri": "https://localhost:8080/",
          "height": 35
        },
        "outputId": "4d1c59d1-95bb-4f5d-f55d-672ff5f7f6b7"
      },
      "source": [
        "xtrain[1][5]"
      ],
      "execution_count": null,
      "outputs": [
        {
          "output_type": "execute_result",
          "data": {
            "text/plain": [
              "('ขอบ', 'NCMN')"
            ]
          },
          "metadata": {
            "tags": []
          },
          "execution_count": 133
        }
      ]
    },
    {
      "cell_type": "code",
      "metadata": {
        "id": "1djnXFG_zl_2",
        "colab_type": "code",
        "colab": {}
      },
      "source": [
        "pred,aa,bb=train_model(X_train=xtrain,Y_train=ner_train, X_test=xtest, Y_test=ner_dev, feature_function_list=\n",
        "                       [pos_features,pos_conjunctive_features,word_features,inclu,in_dict])\n",
        "#For dev\n",
        "fn=[]\n",
        "for n in range(160,190):\n",
        "  fn.append('corpus0'+str(n)+'-utf8.txt')\n",
        "ans={}\n",
        "for n in range(len(fn)):\n",
        "  org=[]\n",
        "  place=[]\n",
        "  pers=[]\n",
        "  for tn in range(len(pred[n])):\n",
        "    if pred[n][tn] =='org':\n",
        "      org.append(xtest[n][tn][0])\n",
        "    elif pred[n][tn] == 'place':\n",
        "      place.append(xtrain[n][tn][0])\n",
        "    elif pred[n][tn] == 'pers':\n",
        "      pers.append(xtrain[n][tn][0])\n",
        "  ans[fn[n]]={}\n",
        "  ans[fn[n]]['org']=list(set(org))\n",
        "  ans[fn[n]]['place']=list(set(place))\n",
        "  ans[fn[n]]['pers']=list(set(pers))\n",
        "\n",
        "  \n",
        "with open('thai_ner_test_set_predictions.json','w')as gg:\n",
        "  json.dump(ans,gg)\n",
        "\n"
      ],
      "execution_count": null,
      "outputs": []
    },
    {
      "cell_type": "code",
      "metadata": {
        "id": "EtbzHJ6_CGhX",
        "colab_type": "code",
        "colab": {
          "base_uri": "https://localhost:8080/",
          "height": 121
        },
        "outputId": "296bf38f-cd2e-424e-cf70-c34a74b18d45"
      },
      "source": [
        "pred,aa,bb=train_model(X_train=xtrain,Y_train=ner_train, X_test=xdev, Y_test=ner_dev, feature_function_list=\n",
        "                       [word_features,inclu,in_dict])\n",
        "#For dev\n",
        "fn=[]\n",
        "for n in range(150,160):\n",
        "  fn.append('corpus0'+str(n)+'-utf8.txt')\n",
        "ans={}\n",
        "for n in range(len(fn)):\n",
        "  org=[]\n",
        "  place=[]\n",
        "  pers=[]\n",
        "  for tn in range(len(pred[n])):\n",
        "    if pred[n][tn] =='org':\n",
        "      org.append(xdev[n][tn][0])\n",
        "    elif pred[n][tn] == 'place':\n",
        "      place.append(xdev[n][tn][0])\n",
        "    elif pred[n][tn] == 'pers':\n",
        "      pers.append(xdev[n][tn][0])\n",
        "  ans[fn[n]]={}\n",
        "  ans[fn[n]]['org']=list(set(org))\n",
        "  ans[fn[n]]['place']=list(set(place))\n",
        "  ans[fn[n]]['pers']=list(set(pers))\n",
        "\n",
        "  \n",
        "with open('my_answer.json','w')as gg:\n",
        "  json.dump(ans,gg)\n",
        "\n",
        "!python3 contest3-master/evaluate2.py thai_ner_dev_set_answers.json my_answer.json\n"
      ],
      "execution_count": null,
      "outputs": [
        {
          "output_type": "stream",
          "text": [
            "       PRECISION  RECALL     F1 SUPPORT\n",
            "place     1.0000  0.2941 0.4545      17\n",
            "org       0.7273  0.2712 0.3951      59\n",
            "pers      0.9500  0.7600 0.8444      25\n",
            "MACRO     0.8924  0.4418 0.5647     101\n",
            "MICRO     0.8511  0.3960 0.5405     101\n"
          ],
          "name": "stdout"
        }
      ]
    }
  ]
}